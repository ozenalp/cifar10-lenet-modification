{
 "cells": [
  {
   "attachments": {},
   "cell_type": "markdown",
   "metadata": {},
   "source": [
    "# Getting Started\n",
    "\n",
    "First, we import the sys module, which helps us work with system-specific parameters and functions in Python. By appending the parent directory (../) to the module search path, we enable Python to search for modules in that directory whenever we try to import them. This allows us to conveniently access and use modules located in the parent directory within our code."
   ]
  },
  {
   "cell_type": "code",
   "execution_count": 1,
   "metadata": {},
   "outputs": [],
   "source": [
    "import sys\n",
    "# Add parent directory to the module search path\n",
    "sys.path.append('../')"
   ]
  },
  {
   "cell_type": "code",
   "execution_count": 2,
   "metadata": {},
   "outputs": [],
   "source": [
    "import time\n",
    "import torch\n",
    "from tqdm.notebook import trange"
   ]
  },
  {
   "attachments": {},
   "cell_type": "markdown",
   "metadata": {},
   "source": [
    "Now, we import the custom functions and models we have defined in our scripts folders. I have did this to easily access and use functions necessary for training and evaluating the models, so that the notebook is easier to follow without all function cluster."
   ]
  },
  {
   "cell_type": "code",
   "execution_count": 3,
   "metadata": {},
   "outputs": [],
   "source": [
    "from scripts.utils import set_seed, count_parameters, \\\n",
    "                            epoch_time, df_results\n",
    "from scripts.data import get_transforms, load_cifar10_datasets, \\\n",
    "                            split_train_validation, create_data_loaders\n",
    "from scripts.models import LeNet, LeNet_leaky, LeNet_sigmoid\n",
    "from scripts.train import train_model, evaluate"
   ]
  },
  {
   "attachments": {},
   "cell_type": "markdown",
   "metadata": {},
   "source": [
    "We set a seed number to make the results reproducible"
   ]
  },
  {
   "cell_type": "code",
   "execution_count": 4,
   "metadata": {},
   "outputs": [],
   "source": [
    "SEED = 1773\n",
    "set_seed(SEED)"
   ]
  },
  {
   "attachments": {},
   "cell_type": "markdown",
   "metadata": {},
   "source": [
    "# Loading data\n",
    "\n",
    "We can now load the dataset and split it into train, validation, and test sets. Actually, in CIFAR10 dataset, train and test datasets are already seperated so we just need to load them and split the train set into training and validaiton sets."
   ]
  },
  {
   "cell_type": "code",
   "execution_count": 5,
   "metadata": {},
   "outputs": [
    {
     "name": "stdout",
     "output_type": "stream",
     "text": [
      "Files already downloaded and verified\n",
      "Files already downloaded and verified\n",
      "Number of training examples and shape: (50000, 32, 32, 3)\n",
      "Number of testing examples and shape: (10000, 32, 32, 3)\n"
     ]
    }
   ],
   "source": [
    "train_transform, test_transform = get_transforms()\n",
    "train_data, test_data = load_cifar10_datasets(train_transform=train_transform, \n",
    "                                              test_transform=test_transform)\n",
    "\n",
    "print(f'Number of training examples and shape: {train_data.data.shape}')\n",
    "print(f'Number of testing examples and shape: {test_data.data.shape}')"
   ]
  },
  {
   "cell_type": "code",
   "execution_count": 6,
   "metadata": {},
   "outputs": [
    {
     "name": "stdout",
     "output_type": "stream",
     "text": [
      "Number of training examples: 45000\n",
      "Number of validation examples: 5000\n"
     ]
    }
   ],
   "source": [
    "train_data, valid_data = split_train_validation(train_data, 0.9, test_transform)\n",
    "print(f'Number of training examples: {len(train_data)}')\n",
    "print(f'Number of validation examples: {len(valid_data)}')"
   ]
  },
  {
   "attachments": {},
   "cell_type": "markdown",
   "metadata": {},
   "source": [
    "# Model Training\n",
    "\n",
    "Although we explored different parameters in each model, they all have a similar architecture which is based on LeNet. However, since the original LeNet was developed to work on grey-scale we need to arrange the input dimensions. Beacuse we are working with CIFAR10 dataset and it contains RGB images."
   ]
  },
  {
   "attachments": {},
   "cell_type": "markdown",
   "metadata": {},
   "source": [
    "## Model-0\n",
    "\n",
    "The first model is a regular implementation of LeNet. I have only changed the input dimension to 3 since, the original LeNet has been developed to work on grey-scale images. But CIFAR10 dataset contains RGB images.\n",
    "\n",
    "This base model will be compared to other models with different hyperparameters. The specs of this model are as follows:\n",
    "\n",
    " - Batch Size : 64\n",
    " - Loss function: Cross-Entropy Loss\n",
    " - Optimizer: Stochastic Gradient Descent (SGD) w/ Momentum = 0.9, Learning rate = 0.001\n",
    " - Activation function: ReLu\n",
    " - Epoch : 32"
   ]
  },
  {
   "cell_type": "code",
   "execution_count": 7,
   "metadata": {},
   "outputs": [
    {
     "name": "stdout",
     "output_type": "stream",
     "text": [
      "The model has 62,006 trainable parameters\n"
     ]
    },
    {
     "data": {
      "text/plain": [
       "LeNet(\n",
       "  (conv1): Conv2d(3, 6, kernel_size=(5, 5), stride=(1, 1))\n",
       "  (pool1): MaxPool2d(kernel_size=2, stride=2, padding=0, dilation=1, ceil_mode=False)\n",
       "  (conv2): Conv2d(6, 16, kernel_size=(5, 5), stride=(1, 1))\n",
       "  (pool2): MaxPool2d(kernel_size=2, stride=2, padding=0, dilation=1, ceil_mode=False)\n",
       "  (fc1): Linear(in_features=400, out_features=120, bias=True)\n",
       "  (fc2): Linear(in_features=120, out_features=84, bias=True)\n",
       "  (fc3): Linear(in_features=84, out_features=10, bias=True)\n",
       ")"
      ]
     },
     "execution_count": 7,
     "metadata": {},
     "output_type": "execute_result"
    }
   ],
   "source": [
    "model = LeNet()\n",
    "print(f'The model has {count_parameters(model):,} trainable parameters')\n",
    "model"
   ]
  },
  {
   "cell_type": "code",
   "execution_count": 8,
   "metadata": {},
   "outputs": [],
   "source": [
    "# Define the batch size for the data loaders\n",
    "BATCH_SIZE = 64\n",
    "\n",
    "# Use the create_data_loaders function to create data loaders for the training, validation, and testing datasets\n",
    "# Each loader will return data in batches of size defined by BATCH_SIZE\n",
    "train_iterator, valid_iterator, test_iterator = create_data_loaders(train_data,\n",
    "                                                                    valid_data,\n",
    "                                                                    test_data,\n",
    "                                                                    BATCH_SIZE)\n",
    "\n",
    "# Define the loss function (criterion) for the model\n",
    "# In this case, we are using Cross Entropy Loss which is typically used for classification tasks\n",
    "criterion = torch.nn.CrossEntropyLoss()\n",
    "\n",
    "# Define the optimization algorithm for training the model\n",
    "# We are using Stochastic Gradient Descent (SGD) with a learning rate of 0.001 and momentum of 0.9\n",
    "# The optimizer adjusts the model's parameters based on the calculated gradients during backpropagation\n",
    "optimizer = torch.optim.SGD(model.parameters(), lr = 0.001, momentum = 0.9)\n"
   ]
  },
  {
   "cell_type": "code",
   "execution_count": 10,
   "metadata": {},
   "outputs": [
    {
     "name": "stdout",
     "output_type": "stream",
     "text": [
      "Current device is : cuda\n"
     ]
    }
   ],
   "source": [
    "# Check if CUDA is available and set the device to CUDA if available; otherwise, use CPU\n",
    "device = torch.device('cuda' if torch.cuda.is_available() else 'cpu')\n",
    "\n",
    "# Print the device being used\n",
    "print(f\"Current device is : {device}\")\n"
   ]
  },
  {
   "cell_type": "code",
   "execution_count": 11,
   "metadata": {},
   "outputs": [
    {
     "data": {
      "application/vnd.jupyter.widget-view+json": {
       "model_id": "11208cea602549e4abb99110c562b86c",
       "version_major": 2,
       "version_minor": 0
      },
      "text/plain": [
       "  0%|          | 0/32 [00:00<?, ?it/s]"
      ]
     },
     "metadata": {},
     "output_type": "display_data"
    },
    {
     "name": "stderr",
     "output_type": "stream",
     "text": []
    },
    {
     "name": "stdout",
     "output_type": "stream",
     "text": [
      "Epoch: 01 | Epoch Time: 0m 30s\n",
      "\tTrain Loss: 2.300 | Train Acc: 10.69%\n",
      "\t Val. Loss: 2.293 |  Val. Acc: 15.05%\n"
     ]
    },
    {
     "name": "stderr",
     "output_type": "stream",
     "text": []
    },
    {
     "name": "stdout",
     "output_type": "stream",
     "text": [
      "Epoch: 02 | Epoch Time: 0m 20s\n",
      "\tTrain Loss: 2.212 | Train Acc: 16.43%\n",
      "\t Val. Loss: 2.067 |  Val. Acc: 23.42%\n"
     ]
    },
    {
     "name": "stderr",
     "output_type": "stream",
     "text": []
    },
    {
     "name": "stdout",
     "output_type": "stream",
     "text": [
      "Epoch: 03 | Epoch Time: 0m 20s\n",
      "\tTrain Loss: 1.987 | Train Acc: 25.95%\n",
      "\t Val. Loss: 1.902 |  Val. Acc: 31.76%\n"
     ]
    },
    {
     "name": "stderr",
     "output_type": "stream",
     "text": []
    },
    {
     "name": "stdout",
     "output_type": "stream",
     "text": [
      "Epoch: 04 | Epoch Time: 0m 20s\n",
      "\tTrain Loss: 1.812 | Train Acc: 33.56%\n",
      "\t Val. Loss: 1.719 |  Val. Acc: 36.61%\n"
     ]
    },
    {
     "name": "stderr",
     "output_type": "stream",
     "text": []
    },
    {
     "name": "stdout",
     "output_type": "stream",
     "text": [
      "Epoch: 05 | Epoch Time: 0m 20s\n",
      "\tTrain Loss: 1.666 | Train Acc: 38.88%\n",
      "\t Val. Loss: 1.629 |  Val. Acc: 40.53%\n"
     ]
    },
    {
     "name": "stderr",
     "output_type": "stream",
     "text": []
    },
    {
     "name": "stdout",
     "output_type": "stream",
     "text": [
      "Epoch: 06 | Epoch Time: 0m 20s\n",
      "\tTrain Loss: 1.583 | Train Acc: 42.19%\n",
      "\t Val. Loss: 1.588 |  Val. Acc: 41.89%\n"
     ]
    },
    {
     "name": "stderr",
     "output_type": "stream",
     "text": []
    },
    {
     "name": "stdout",
     "output_type": "stream",
     "text": [
      "Epoch: 07 | Epoch Time: 0m 20s\n",
      "\tTrain Loss: 1.524 | Train Acc: 44.35%\n",
      "\t Val. Loss: 1.496 |  Val. Acc: 45.45%\n"
     ]
    },
    {
     "name": "stderr",
     "output_type": "stream",
     "text": []
    },
    {
     "name": "stdout",
     "output_type": "stream",
     "text": [
      "Epoch: 08 | Epoch Time: 0m 20s\n",
      "\tTrain Loss: 1.469 | Train Acc: 46.74%\n",
      "\t Val. Loss: 1.458 |  Val. Acc: 46.97%\n"
     ]
    },
    {
     "name": "stderr",
     "output_type": "stream",
     "text": []
    },
    {
     "name": "stdout",
     "output_type": "stream",
     "text": [
      "Epoch: 09 | Epoch Time: 0m 20s\n",
      "\tTrain Loss: 1.417 | Train Acc: 48.78%\n",
      "\t Val. Loss: 1.418 |  Val. Acc: 48.18%\n"
     ]
    },
    {
     "name": "stderr",
     "output_type": "stream",
     "text": []
    },
    {
     "name": "stdout",
     "output_type": "stream",
     "text": [
      "Epoch: 10 | Epoch Time: 0m 20s\n",
      "\tTrain Loss: 1.377 | Train Acc: 50.35%\n",
      "\t Val. Loss: 1.388 |  Val. Acc: 49.07%\n"
     ]
    },
    {
     "name": "stderr",
     "output_type": "stream",
     "text": []
    },
    {
     "name": "stdout",
     "output_type": "stream",
     "text": [
      "Epoch: 11 | Epoch Time: 0m 20s\n",
      "\tTrain Loss: 1.343 | Train Acc: 51.71%\n",
      "\t Val. Loss: 1.354 |  Val. Acc: 50.61%\n"
     ]
    },
    {
     "name": "stderr",
     "output_type": "stream",
     "text": []
    },
    {
     "name": "stdout",
     "output_type": "stream",
     "text": [
      "Epoch: 12 | Epoch Time: 0m 19s\n",
      "\tTrain Loss: 1.304 | Train Acc: 53.22%\n",
      "\t Val. Loss: 1.338 |  Val. Acc: 52.02%\n"
     ]
    },
    {
     "name": "stderr",
     "output_type": "stream",
     "text": []
    },
    {
     "name": "stdout",
     "output_type": "stream",
     "text": [
      "Epoch: 13 | Epoch Time: 0m 19s\n",
      "\tTrain Loss: 1.274 | Train Acc: 54.45%\n",
      "\t Val. Loss: 1.286 |  Val. Acc: 53.66%\n"
     ]
    },
    {
     "name": "stderr",
     "output_type": "stream",
     "text": []
    },
    {
     "name": "stdout",
     "output_type": "stream",
     "text": [
      "Epoch: 14 | Epoch Time: 0m 19s\n",
      "\tTrain Loss: 1.240 | Train Acc: 55.62%\n",
      "\t Val. Loss: 1.254 |  Val. Acc: 54.87%\n"
     ]
    },
    {
     "name": "stderr",
     "output_type": "stream",
     "text": []
    },
    {
     "name": "stdout",
     "output_type": "stream",
     "text": [
      "Epoch: 15 | Epoch Time: 0m 19s\n",
      "\tTrain Loss: 1.216 | Train Acc: 56.64%\n",
      "\t Val. Loss: 1.233 |  Val. Acc: 56.47%\n"
     ]
    },
    {
     "name": "stderr",
     "output_type": "stream",
     "text": []
    },
    {
     "name": "stdout",
     "output_type": "stream",
     "text": [
      "Epoch: 16 | Epoch Time: 0m 20s\n",
      "\tTrain Loss: 1.185 | Train Acc: 57.63%\n",
      "\t Val. Loss: 1.212 |  Val. Acc: 56.63%\n"
     ]
    },
    {
     "name": "stderr",
     "output_type": "stream",
     "text": []
    },
    {
     "name": "stdout",
     "output_type": "stream",
     "text": [
      "Epoch: 17 | Epoch Time: 0m 19s\n",
      "\tTrain Loss: 1.161 | Train Acc: 58.63%\n",
      "\t Val. Loss: 1.193 |  Val. Acc: 57.20%\n"
     ]
    },
    {
     "name": "stderr",
     "output_type": "stream",
     "text": []
    },
    {
     "name": "stdout",
     "output_type": "stream",
     "text": [
      "Epoch: 18 | Epoch Time: 0m 19s\n",
      "\tTrain Loss: 1.137 | Train Acc: 59.76%\n",
      "\t Val. Loss: 1.181 |  Val. Acc: 57.81%\n"
     ]
    },
    {
     "name": "stderr",
     "output_type": "stream",
     "text": []
    },
    {
     "name": "stdout",
     "output_type": "stream",
     "text": [
      "Epoch: 19 | Epoch Time: 0m 20s\n",
      "\tTrain Loss: 1.114 | Train Acc: 60.39%\n",
      "\t Val. Loss: 1.153 |  Val. Acc: 59.61%\n"
     ]
    },
    {
     "name": "stderr",
     "output_type": "stream",
     "text": []
    },
    {
     "name": "stdout",
     "output_type": "stream",
     "text": [
      "Epoch: 20 | Epoch Time: 0m 20s\n",
      "\tTrain Loss: 1.092 | Train Acc: 61.34%\n",
      "\t Val. Loss: 1.157 |  Val. Acc: 59.20%\n"
     ]
    },
    {
     "name": "stderr",
     "output_type": "stream",
     "text": []
    },
    {
     "name": "stdout",
     "output_type": "stream",
     "text": [
      "Epoch: 21 | Epoch Time: 0m 20s\n",
      "\tTrain Loss: 1.073 | Train Acc: 62.24%\n",
      "\t Val. Loss: 1.124 |  Val. Acc: 59.99%\n"
     ]
    },
    {
     "name": "stderr",
     "output_type": "stream",
     "text": []
    },
    {
     "name": "stdout",
     "output_type": "stream",
     "text": [
      "Epoch: 22 | Epoch Time: 0m 20s\n",
      "\tTrain Loss: 1.055 | Train Acc: 62.68%\n",
      "\t Val. Loss: 1.114 |  Val. Acc: 60.42%\n"
     ]
    },
    {
     "name": "stderr",
     "output_type": "stream",
     "text": []
    },
    {
     "name": "stdout",
     "output_type": "stream",
     "text": [
      "Epoch: 23 | Epoch Time: 0m 19s\n",
      "\tTrain Loss: 1.030 | Train Acc: 63.65%\n",
      "\t Val. Loss: 1.094 |  Val. Acc: 60.94%\n"
     ]
    },
    {
     "name": "stderr",
     "output_type": "stream",
     "text": []
    },
    {
     "name": "stdout",
     "output_type": "stream",
     "text": [
      "Epoch: 24 | Epoch Time: 0m 19s\n",
      "\tTrain Loss: 1.016 | Train Acc: 64.16%\n",
      "\t Val. Loss: 1.110 |  Val. Acc: 60.36%\n"
     ]
    },
    {
     "name": "stderr",
     "output_type": "stream",
     "text": []
    },
    {
     "name": "stdout",
     "output_type": "stream",
     "text": [
      "Epoch: 25 | Epoch Time: 0m 19s\n",
      "\tTrain Loss: 0.998 | Train Acc: 64.85%\n",
      "\t Val. Loss: 1.087 |  Val. Acc: 61.87%\n"
     ]
    },
    {
     "name": "stderr",
     "output_type": "stream",
     "text": []
    },
    {
     "name": "stdout",
     "output_type": "stream",
     "text": [
      "Epoch: 26 | Epoch Time: 0m 19s\n",
      "\tTrain Loss: 0.984 | Train Acc: 65.59%\n",
      "\t Val. Loss: 1.096 |  Val. Acc: 61.83%\n"
     ]
    },
    {
     "name": "stderr",
     "output_type": "stream",
     "text": []
    },
    {
     "name": "stdout",
     "output_type": "stream",
     "text": [
      "Epoch: 27 | Epoch Time: 0m 19s\n",
      "\tTrain Loss: 0.965 | Train Acc: 66.10%\n",
      "\t Val. Loss: 1.068 |  Val. Acc: 62.64%\n"
     ]
    },
    {
     "name": "stderr",
     "output_type": "stream",
     "text": []
    },
    {
     "name": "stdout",
     "output_type": "stream",
     "text": [
      "Epoch: 28 | Epoch Time: 0m 20s\n",
      "\tTrain Loss: 0.951 | Train Acc: 66.40%\n",
      "\t Val. Loss: 1.054 |  Val. Acc: 63.09%\n"
     ]
    },
    {
     "name": "stderr",
     "output_type": "stream",
     "text": []
    },
    {
     "name": "stdout",
     "output_type": "stream",
     "text": [
      "Epoch: 29 | Epoch Time: 0m 19s\n",
      "\tTrain Loss: 0.937 | Train Acc: 66.93%\n",
      "\t Val. Loss: 1.061 |  Val. Acc: 62.22%\n"
     ]
    },
    {
     "name": "stderr",
     "output_type": "stream",
     "text": []
    },
    {
     "name": "stdout",
     "output_type": "stream",
     "text": [
      "Epoch: 30 | Epoch Time: 0m 19s\n",
      "\tTrain Loss: 0.921 | Train Acc: 67.72%\n",
      "\t Val. Loss: 1.073 |  Val. Acc: 62.16%\n"
     ]
    },
    {
     "name": "stderr",
     "output_type": "stream",
     "text": []
    },
    {
     "name": "stdout",
     "output_type": "stream",
     "text": [
      "Epoch: 31 | Epoch Time: 0m 20s\n",
      "\tTrain Loss: 0.906 | Train Acc: 68.14%\n",
      "\t Val. Loss: 1.062 |  Val. Acc: 62.42%\n"
     ]
    },
    {
     "name": "stderr",
     "output_type": "stream",
     "text": []
    },
    {
     "name": "stdout",
     "output_type": "stream",
     "text": [
      "Epoch: 32 | Epoch Time: 0m 19s\n",
      "\tTrain Loss: 0.896 | Train Acc: 68.39%\n",
      "\t Val. Loss: 1.085 |  Val. Acc: 62.06%\n"
     ]
    }
   ],
   "source": [
    "# Set the number of epochs for training\n",
    "EPOCHS = 32\n",
    "\n",
    "# Initialize lists to store the losses and accuracies for each epoch\n",
    "train_losses = []\n",
    "valid_losses = []\n",
    "valid_accs = []\n",
    "train_accs = []\n",
    "\n",
    "# Set the best validation loss to infinity for tracking the best model\n",
    "best_valid_loss = float('inf')\n",
    "\n",
    "# Move the model and the loss function (criterion) to the GPU (if available)\n",
    "model = model.to(device)\n",
    "criterion = criterion.to(device)\n",
    "\n",
    "# For each epoch, train the model and evaluate it\n",
    "for epoch in trange(EPOCHS):\n",
    "  \n",
    "  # Record the start time of the epoch\n",
    "  start_time = time.monotonic()\n",
    "\n",
    "  # Train the model and get the loss and accuracy\n",
    "  train_loss, train_acc = train_model(model, train_iterator, optimizer, criterion, device)\n",
    "  \n",
    "  # Evaluate the model and get the loss and accuracy\n",
    "  valid_loss, valid_acc = evaluate(model, valid_iterator, criterion, device)\n",
    "\n",
    "  # Store the losses and accuracies\n",
    "  train_losses.append(train_loss)\n",
    "  valid_losses.append(valid_loss)\n",
    "  train_accs.append(train_acc)\n",
    "  valid_accs.append(valid_acc)\n",
    "\n",
    "  # If the current model has the best validation loss, save it\n",
    "  if valid_loss < best_valid_loss:\n",
    "    best_valid_loss = valid_loss\n",
    "    torch.save(model.state_dict(), '../results/LeNet-00.pt')\n",
    "\n",
    "  # Record the end time of the epoch and calculate the total time\n",
    "  end_time = time.monotonic()\n",
    "  epoch_mins, epoch_secs = epoch_time(start_time, end_time)\n",
    "\n",
    "  # Print the epoch details\n",
    "  print(f'Epoch: {epoch+1:02} | Epoch Time: {epoch_mins}m {epoch_secs}s')\n",
    "  print(f'\\tTrain Loss: {train_loss:.3f} | Train Acc: {train_acc*100:.2f}%')\n",
    "  print(f'\\t Val. Loss: {valid_loss:.3f} |  Val. Acc: {valid_acc*100:.2f}%')\n",
    "\n",
    "# Save the training statistics to a DataFrame and store it to a CSV file\n",
    "train_stats = df_results(EPOCHS, train_losses, valid_losses, train_accs, valid_accs, \"LeNet-00-train-stats\")\n",
    "\n"
   ]
  },
  {
   "cell_type": "code",
   "execution_count": 12,
   "metadata": {},
   "outputs": [
    {
     "name": "stderr",
     "output_type": "stream",
     "text": [
      "                                                             "
     ]
    },
    {
     "name": "stdout",
     "output_type": "stream",
     "text": [
      "Test Loss: 1.056 | Test Acc: 62.93%\n"
     ]
    },
    {
     "name": "stderr",
     "output_type": "stream",
     "text": [
      "\r"
     ]
    }
   ],
   "source": [
    "# Load the model weights from the best model obtained during training\n",
    "model.load_state_dict(torch.load('../results/LeNet-00.pt'))\n",
    "\n",
    "# Evaluate the model on the test set and obtain the loss and accuracy\n",
    "test_loss, test_acc = evaluate(model, test_iterator, criterion, device)\n",
    "\n",
    "# Print the test loss and accuracy\n",
    "print(f'Test Loss: {test_loss:.3f} | Test Acc: {test_acc*100:.2f}%')\n"
   ]
  },
  {
   "attachments": {},
   "cell_type": "markdown",
   "metadata": {},
   "source": [
    "## Comparing Activation Functions\n",
    "\n",
    "The following models have the same hyperparameters. Only the activation function used in the LeNet model has been changed to be able to compare them."
   ]
  },
  {
   "attachments": {},
   "cell_type": "markdown",
   "metadata": {},
   "source": [
    "### Model_01\n",
    "\n",
    " - Batch Size : 64\n",
    " - Loss function: Cross-Entropy Loss\n",
    " - Optimizer: Stochastic Gradient Descent (SGD)\n",
    " - Activation function: Leaky ReLu\n",
    " - Epoch : 32"
   ]
  },
  {
   "cell_type": "code",
   "execution_count": 13,
   "metadata": {},
   "outputs": [
    {
     "name": "stdout",
     "output_type": "stream",
     "text": [
      "The model has 62,006 trainable parameters\n"
     ]
    },
    {
     "data": {
      "text/plain": [
       "LeNet_leaky(\n",
       "  (conv1): Conv2d(3, 6, kernel_size=(5, 5), stride=(1, 1))\n",
       "  (pool1): MaxPool2d(kernel_size=2, stride=2, padding=0, dilation=1, ceil_mode=False)\n",
       "  (conv2): Conv2d(6, 16, kernel_size=(5, 5), stride=(1, 1))\n",
       "  (pool2): MaxPool2d(kernel_size=2, stride=2, padding=0, dilation=1, ceil_mode=False)\n",
       "  (fc1): Linear(in_features=400, out_features=120, bias=True)\n",
       "  (fc2): Linear(in_features=120, out_features=84, bias=True)\n",
       "  (fc3): Linear(in_features=84, out_features=10, bias=True)\n",
       ")"
      ]
     },
     "execution_count": 13,
     "metadata": {},
     "output_type": "execute_result"
    }
   ],
   "source": [
    "model = LeNet_leaky()\n",
    "print(f'The model has {count_parameters(model):,} trainable parameters')\n",
    "model"
   ]
  },
  {
   "cell_type": "code",
   "execution_count": 14,
   "metadata": {},
   "outputs": [],
   "source": [
    "BATCH_SIZE = 64\n",
    "train_iterator, valid_iterator, test_iterator = create_data_loaders(train_data,\n",
    "                                                                    valid_data,\n",
    "                                                                    test_data,\n",
    "                                                                    BATCH_SIZE)\n",
    "criterion = torch.nn.CrossEntropyLoss()\n",
    "optimizer = torch.optim.SGD(model.parameters(), lr = 0.001, momentum = 0.9)"
   ]
  },
  {
   "cell_type": "code",
   "execution_count": 15,
   "metadata": {},
   "outputs": [
    {
     "name": "stdout",
     "output_type": "stream",
     "text": [
      "Current device is : cuda\n"
     ]
    }
   ],
   "source": [
    "device = torch.device('cuda' if torch.cuda.is_available() else 'cpu')\n",
    "print(f\"Current device is : {device}\")"
   ]
  },
  {
   "cell_type": "code",
   "execution_count": 16,
   "metadata": {},
   "outputs": [
    {
     "data": {
      "application/vnd.jupyter.widget-view+json": {
       "model_id": "2eed051675a1451c94572424d9044c94",
       "version_major": 2,
       "version_minor": 0
      },
      "text/plain": [
       "  0%|          | 0/32 [00:00<?, ?it/s]"
      ]
     },
     "metadata": {},
     "output_type": "display_data"
    },
    {
     "name": "stderr",
     "output_type": "stream",
     "text": []
    },
    {
     "name": "stdout",
     "output_type": "stream",
     "text": [
      "Epoch: 01 | Epoch Time: 0m 19s\n",
      "\tTrain Loss: 2.301 | Train Acc: 10.12%\n",
      "\t Val. Loss: 2.295 |  Val. Acc: 9.91%\n"
     ]
    },
    {
     "name": "stderr",
     "output_type": "stream",
     "text": []
    },
    {
     "name": "stdout",
     "output_type": "stream",
     "text": [
      "Epoch: 02 | Epoch Time: 0m 18s\n",
      "\tTrain Loss: 2.236 | Train Acc: 17.83%\n",
      "\t Val. Loss: 2.086 |  Val. Acc: 25.04%\n"
     ]
    },
    {
     "name": "stderr",
     "output_type": "stream",
     "text": []
    },
    {
     "name": "stdout",
     "output_type": "stream",
     "text": [
      "Epoch: 03 | Epoch Time: 0m 18s\n",
      "\tTrain Loss: 1.976 | Train Acc: 28.65%\n",
      "\t Val. Loss: 1.884 |  Val. Acc: 31.27%\n"
     ]
    },
    {
     "name": "stderr",
     "output_type": "stream",
     "text": []
    },
    {
     "name": "stdout",
     "output_type": "stream",
     "text": [
      "Epoch: 04 | Epoch Time: 0m 18s\n",
      "\tTrain Loss: 1.785 | Train Acc: 34.96%\n",
      "\t Val. Loss: 1.711 |  Val. Acc: 36.89%\n"
     ]
    },
    {
     "name": "stderr",
     "output_type": "stream",
     "text": []
    },
    {
     "name": "stdout",
     "output_type": "stream",
     "text": [
      "Epoch: 05 | Epoch Time: 0m 18s\n",
      "\tTrain Loss: 1.658 | Train Acc: 39.19%\n",
      "\t Val. Loss: 1.618 |  Val. Acc: 40.78%\n"
     ]
    },
    {
     "name": "stderr",
     "output_type": "stream",
     "text": []
    },
    {
     "name": "stdout",
     "output_type": "stream",
     "text": [
      "Epoch: 06 | Epoch Time: 0m 20s\n",
      "\tTrain Loss: 1.587 | Train Acc: 42.02%\n",
      "\t Val. Loss: 1.568 |  Val. Acc: 41.99%\n"
     ]
    },
    {
     "name": "stderr",
     "output_type": "stream",
     "text": []
    },
    {
     "name": "stdout",
     "output_type": "stream",
     "text": [
      "Epoch: 07 | Epoch Time: 0m 19s\n",
      "\tTrain Loss: 1.534 | Train Acc: 44.31%\n",
      "\t Val. Loss: 1.514 |  Val. Acc: 44.90%\n"
     ]
    },
    {
     "name": "stderr",
     "output_type": "stream",
     "text": []
    },
    {
     "name": "stdout",
     "output_type": "stream",
     "text": [
      "Epoch: 08 | Epoch Time: 0m 19s\n",
      "\tTrain Loss: 1.484 | Train Acc: 46.25%\n",
      "\t Val. Loss: 1.489 |  Val. Acc: 45.33%\n"
     ]
    },
    {
     "name": "stderr",
     "output_type": "stream",
     "text": []
    },
    {
     "name": "stdout",
     "output_type": "stream",
     "text": [
      "Epoch: 09 | Epoch Time: 0m 20s\n",
      "\tTrain Loss: 1.438 | Train Acc: 48.01%\n",
      "\t Val. Loss: 1.430 |  Val. Acc: 48.28%\n"
     ]
    },
    {
     "name": "stderr",
     "output_type": "stream",
     "text": []
    },
    {
     "name": "stdout",
     "output_type": "stream",
     "text": [
      "Epoch: 10 | Epoch Time: 0m 19s\n",
      "\tTrain Loss: 1.394 | Train Acc: 49.87%\n",
      "\t Val. Loss: 1.407 |  Val. Acc: 48.58%\n"
     ]
    },
    {
     "name": "stderr",
     "output_type": "stream",
     "text": []
    },
    {
     "name": "stdout",
     "output_type": "stream",
     "text": [
      "Epoch: 11 | Epoch Time: 0m 19s\n",
      "\tTrain Loss: 1.356 | Train Acc: 51.23%\n",
      "\t Val. Loss: 1.363 |  Val. Acc: 50.26%\n"
     ]
    },
    {
     "name": "stderr",
     "output_type": "stream",
     "text": []
    },
    {
     "name": "stdout",
     "output_type": "stream",
     "text": [
      "Epoch: 12 | Epoch Time: 0m 19s\n",
      "\tTrain Loss: 1.319 | Train Acc: 52.81%\n",
      "\t Val. Loss: 1.332 |  Val. Acc: 51.80%\n"
     ]
    },
    {
     "name": "stderr",
     "output_type": "stream",
     "text": []
    },
    {
     "name": "stdout",
     "output_type": "stream",
     "text": [
      "Epoch: 13 | Epoch Time: 0m 20s\n",
      "\tTrain Loss: 1.286 | Train Acc: 54.08%\n",
      "\t Val. Loss: 1.294 |  Val. Acc: 53.26%\n"
     ]
    },
    {
     "name": "stderr",
     "output_type": "stream",
     "text": []
    },
    {
     "name": "stdout",
     "output_type": "stream",
     "text": [
      "Epoch: 14 | Epoch Time: 0m 20s\n",
      "\tTrain Loss: 1.251 | Train Acc: 55.27%\n",
      "\t Val. Loss: 1.306 |  Val. Acc: 52.39%\n"
     ]
    },
    {
     "name": "stderr",
     "output_type": "stream",
     "text": []
    },
    {
     "name": "stdout",
     "output_type": "stream",
     "text": [
      "Epoch: 15 | Epoch Time: 0m 18s\n",
      "\tTrain Loss: 1.218 | Train Acc: 56.63%\n",
      "\t Val. Loss: 1.277 |  Val. Acc: 54.67%\n"
     ]
    },
    {
     "name": "stderr",
     "output_type": "stream",
     "text": []
    },
    {
     "name": "stdout",
     "output_type": "stream",
     "text": [
      "Epoch: 16 | Epoch Time: 0m 19s\n",
      "\tTrain Loss: 1.187 | Train Acc: 57.70%\n",
      "\t Val. Loss: 1.227 |  Val. Acc: 55.91%\n"
     ]
    },
    {
     "name": "stderr",
     "output_type": "stream",
     "text": []
    },
    {
     "name": "stdout",
     "output_type": "stream",
     "text": [
      "Epoch: 17 | Epoch Time: 0m 19s\n",
      "\tTrain Loss: 1.163 | Train Acc: 59.00%\n",
      "\t Val. Loss: 1.276 |  Val. Acc: 54.23%\n"
     ]
    },
    {
     "name": "stderr",
     "output_type": "stream",
     "text": []
    },
    {
     "name": "stdout",
     "output_type": "stream",
     "text": [
      "Epoch: 18 | Epoch Time: 0m 18s\n",
      "\tTrain Loss: 1.133 | Train Acc: 59.98%\n",
      "\t Val. Loss: 1.209 |  Val. Acc: 55.89%\n"
     ]
    },
    {
     "name": "stderr",
     "output_type": "stream",
     "text": []
    },
    {
     "name": "stdout",
     "output_type": "stream",
     "text": [
      "Epoch: 19 | Epoch Time: 0m 18s\n",
      "\tTrain Loss: 1.111 | Train Acc: 60.76%\n",
      "\t Val. Loss: 1.192 |  Val. Acc: 57.71%\n"
     ]
    },
    {
     "name": "stderr",
     "output_type": "stream",
     "text": []
    },
    {
     "name": "stdout",
     "output_type": "stream",
     "text": [
      "Epoch: 20 | Epoch Time: 0m 18s\n",
      "\tTrain Loss: 1.089 | Train Acc: 61.61%\n",
      "\t Val. Loss: 1.182 |  Val. Acc: 57.04%\n"
     ]
    },
    {
     "name": "stderr",
     "output_type": "stream",
     "text": []
    },
    {
     "name": "stdout",
     "output_type": "stream",
     "text": [
      "Epoch: 21 | Epoch Time: 0m 18s\n",
      "\tTrain Loss: 1.068 | Train Acc: 62.37%\n",
      "\t Val. Loss: 1.168 |  Val. Acc: 58.37%\n"
     ]
    },
    {
     "name": "stderr",
     "output_type": "stream",
     "text": []
    },
    {
     "name": "stdout",
     "output_type": "stream",
     "text": [
      "Epoch: 22 | Epoch Time: 0m 18s\n",
      "\tTrain Loss: 1.046 | Train Acc: 63.10%\n",
      "\t Val. Loss: 1.165 |  Val. Acc: 58.35%\n"
     ]
    },
    {
     "name": "stderr",
     "output_type": "stream",
     "text": []
    },
    {
     "name": "stdout",
     "output_type": "stream",
     "text": [
      "Epoch: 23 | Epoch Time: 0m 17s\n",
      "\tTrain Loss: 1.030 | Train Acc: 63.93%\n",
      "\t Val. Loss: 1.142 |  Val. Acc: 59.32%\n"
     ]
    },
    {
     "name": "stderr",
     "output_type": "stream",
     "text": []
    },
    {
     "name": "stdout",
     "output_type": "stream",
     "text": [
      "Epoch: 24 | Epoch Time: 0m 18s\n",
      "\tTrain Loss: 1.010 | Train Acc: 64.69%\n",
      "\t Val. Loss: 1.118 |  Val. Acc: 60.32%\n"
     ]
    },
    {
     "name": "stderr",
     "output_type": "stream",
     "text": []
    },
    {
     "name": "stdout",
     "output_type": "stream",
     "text": [
      "Epoch: 25 | Epoch Time: 0m 21s\n",
      "\tTrain Loss: 0.995 | Train Acc: 65.20%\n",
      "\t Val. Loss: 1.142 |  Val. Acc: 59.36%\n"
     ]
    },
    {
     "name": "stderr",
     "output_type": "stream",
     "text": []
    },
    {
     "name": "stdout",
     "output_type": "stream",
     "text": [
      "Epoch: 26 | Epoch Time: 0m 20s\n",
      "\tTrain Loss: 0.977 | Train Acc: 66.01%\n",
      "\t Val. Loss: 1.133 |  Val. Acc: 59.18%\n"
     ]
    },
    {
     "name": "stderr",
     "output_type": "stream",
     "text": []
    },
    {
     "name": "stdout",
     "output_type": "stream",
     "text": [
      "Epoch: 27 | Epoch Time: 0m 18s\n",
      "\tTrain Loss: 0.961 | Train Acc: 66.57%\n",
      "\t Val. Loss: 1.108 |  Val. Acc: 60.21%\n"
     ]
    },
    {
     "name": "stderr",
     "output_type": "stream",
     "text": []
    },
    {
     "name": "stdout",
     "output_type": "stream",
     "text": [
      "Epoch: 28 | Epoch Time: 0m 18s\n",
      "\tTrain Loss: 0.944 | Train Acc: 67.03%\n",
      "\t Val. Loss: 1.101 |  Val. Acc: 61.16%\n"
     ]
    },
    {
     "name": "stderr",
     "output_type": "stream",
     "text": []
    },
    {
     "name": "stdout",
     "output_type": "stream",
     "text": [
      "Epoch: 29 | Epoch Time: 0m 18s\n",
      "\tTrain Loss: 0.931 | Train Acc: 67.51%\n",
      "\t Val. Loss: 1.100 |  Val. Acc: 61.45%\n"
     ]
    },
    {
     "name": "stderr",
     "output_type": "stream",
     "text": []
    },
    {
     "name": "stdout",
     "output_type": "stream",
     "text": [
      "Epoch: 30 | Epoch Time: 0m 18s\n",
      "\tTrain Loss: 0.913 | Train Acc: 68.22%\n",
      "\t Val. Loss: 1.072 |  Val. Acc: 61.53%\n"
     ]
    },
    {
     "name": "stderr",
     "output_type": "stream",
     "text": []
    },
    {
     "name": "stdout",
     "output_type": "stream",
     "text": [
      "Epoch: 31 | Epoch Time: 0m 20s\n",
      "\tTrain Loss: 0.901 | Train Acc: 68.58%\n",
      "\t Val. Loss: 1.063 |  Val. Acc: 63.05%\n"
     ]
    },
    {
     "name": "stderr",
     "output_type": "stream",
     "text": []
    },
    {
     "name": "stdout",
     "output_type": "stream",
     "text": [
      "Epoch: 32 | Epoch Time: 0m 18s\n",
      "\tTrain Loss: 0.882 | Train Acc: 69.27%\n",
      "\t Val. Loss: 1.097 |  Val. Acc: 61.61%\n"
     ]
    }
   ],
   "source": [
    "EPOCHS = 32\n",
    "\n",
    "train_losses = []\n",
    "valid_losses = []\n",
    "\n",
    "valid_accs = []\n",
    "train_accs = []\n",
    "\n",
    "best_valid_loss = float('inf')\n",
    "\n",
    "model = model.to(device)\n",
    "criterion = criterion.to(device)\n",
    "\n",
    "for epoch in trange(EPOCHS):\n",
    "\n",
    "  start_time = time.monotonic()\n",
    "\n",
    "  train_loss, train_acc = train_model(model, train_iterator, optimizer, criterion, device)\n",
    "  valid_loss, valid_acc = evaluate(model, valid_iterator, criterion, device)\n",
    "\n",
    "  train_losses.append(train_loss)\n",
    "  valid_losses.append(valid_loss)\n",
    "\n",
    "  train_accs.append(train_acc)\n",
    "  valid_accs.append(valid_acc)\n",
    "\n",
    "  if valid_loss < best_valid_loss:\n",
    "    best_valid_loss = valid_loss\n",
    "    torch.save(model.state_dict(), '../results/LeNet-01.pt')\n",
    "\n",
    "  end_time = time.monotonic()\n",
    "\n",
    "  epoch_mins, epoch_secs = epoch_time(start_time, end_time)\n",
    "\n",
    "  print(f'Epoch: {epoch+1:02} | Epoch Time: {epoch_mins}m {epoch_secs}s')\n",
    "  print(f'\\tTrain Loss: {train_loss:.3f} | Train Acc: {train_acc*100:.2f}%')\n",
    "  print(f'\\t Val. Loss: {valid_loss:.3f} |  Val. Acc: {valid_acc*100:.2f}%')\n",
    "\n",
    "train_stats = df_results(EPOCHS, train_losses, valid_losses, train_accs, valid_accs, \"LeNet-01-train-stats\")"
   ]
  },
  {
   "cell_type": "code",
   "execution_count": 17,
   "metadata": {},
   "outputs": [
    {
     "name": "stderr",
     "output_type": "stream",
     "text": [
      "                                                             "
     ]
    },
    {
     "name": "stdout",
     "output_type": "stream",
     "text": [
      "Test Loss: 1.049 | Test Acc: 63.52%\n"
     ]
    },
    {
     "name": "stderr",
     "output_type": "stream",
     "text": [
      "\r"
     ]
    }
   ],
   "source": [
    "model.load_state_dict(torch.load('../results/LeNet-01.pt'))\n",
    "\n",
    "test_loss, test_acc = evaluate(model, test_iterator, criterion, device)\n",
    "\n",
    "print(f'Test Loss: {test_loss:.3f} | Test Acc: {test_acc*100:.2f}%')"
   ]
  },
  {
   "attachments": {},
   "cell_type": "markdown",
   "metadata": {},
   "source": [
    "### Model_02\n",
    "\n",
    " - Batch Size : 64\n",
    " - Loss function: Cross-Entropy Loss\n",
    " - Optimizer: Stochastic Gradient Descent (SGD)\n",
    " - Activation function: Sigmoid\n",
    " - Epoch : 32"
   ]
  },
  {
   "cell_type": "code",
   "execution_count": 18,
   "metadata": {},
   "outputs": [
    {
     "name": "stdout",
     "output_type": "stream",
     "text": [
      "The model has 62,006 trainable parameters\n"
     ]
    },
    {
     "data": {
      "text/plain": [
       "LeNet_sigmoid(\n",
       "  (conv1): Conv2d(3, 6, kernel_size=(5, 5), stride=(1, 1))\n",
       "  (pool1): MaxPool2d(kernel_size=2, stride=2, padding=0, dilation=1, ceil_mode=False)\n",
       "  (conv2): Conv2d(6, 16, kernel_size=(5, 5), stride=(1, 1))\n",
       "  (pool2): MaxPool2d(kernel_size=2, stride=2, padding=0, dilation=1, ceil_mode=False)\n",
       "  (fc1): Linear(in_features=400, out_features=120, bias=True)\n",
       "  (fc2): Linear(in_features=120, out_features=84, bias=True)\n",
       "  (fc3): Linear(in_features=84, out_features=10, bias=True)\n",
       ")"
      ]
     },
     "execution_count": 18,
     "metadata": {},
     "output_type": "execute_result"
    }
   ],
   "source": [
    "model = LeNet_sigmoid()\n",
    "print(f'The model has {count_parameters(model):,} trainable parameters')\n",
    "model"
   ]
  },
  {
   "cell_type": "code",
   "execution_count": 19,
   "metadata": {},
   "outputs": [],
   "source": [
    "BATCH_SIZE = 64\n",
    "train_iterator, valid_iterator, test_iterator = create_data_loaders(train_data,\n",
    "                                                                    valid_data,\n",
    "                                                                    test_data,\n",
    "                                                                    BATCH_SIZE)\n",
    "criterion = torch.nn.CrossEntropyLoss()\n",
    "optimizer = torch.optim.SGD(model.parameters(), lr = 0.001, momentum = 0.9)"
   ]
  },
  {
   "cell_type": "code",
   "execution_count": 20,
   "metadata": {},
   "outputs": [
    {
     "name": "stdout",
     "output_type": "stream",
     "text": [
      "Current device is : cuda\n"
     ]
    }
   ],
   "source": [
    "device = torch.device('cuda' if torch.cuda.is_available() else 'cpu')\n",
    "print(f\"Current device is : {device}\")"
   ]
  },
  {
   "cell_type": "code",
   "execution_count": 21,
   "metadata": {},
   "outputs": [
    {
     "data": {
      "application/vnd.jupyter.widget-view+json": {
       "model_id": "e1aca919a7e44a71a0b10250791682f9",
       "version_major": 2,
       "version_minor": 0
      },
      "text/plain": [
       "  0%|          | 0/32 [00:00<?, ?it/s]"
      ]
     },
     "metadata": {},
     "output_type": "display_data"
    },
    {
     "name": "stderr",
     "output_type": "stream",
     "text": []
    },
    {
     "name": "stdout",
     "output_type": "stream",
     "text": [
      "Epoch: 01 | Epoch Time: 0m 17s\n",
      "\tTrain Loss: 2.304 | Train Acc: 9.95%\n",
      "\t Val. Loss: 2.304 |  Val. Acc: 9.51%\n"
     ]
    },
    {
     "name": "stderr",
     "output_type": "stream",
     "text": []
    },
    {
     "name": "stdout",
     "output_type": "stream",
     "text": [
      "Epoch: 02 | Epoch Time: 0m 19s\n",
      "\tTrain Loss: 2.303 | Train Acc: 9.91%\n",
      "\t Val. Loss: 2.304 |  Val. Acc: 10.25%\n"
     ]
    },
    {
     "name": "stderr",
     "output_type": "stream",
     "text": []
    },
    {
     "name": "stdout",
     "output_type": "stream",
     "text": [
      "Epoch: 03 | Epoch Time: 0m 23s\n",
      "\tTrain Loss: 2.303 | Train Acc: 9.95%\n",
      "\t Val. Loss: 2.303 |  Val. Acc: 9.63%\n"
     ]
    },
    {
     "name": "stderr",
     "output_type": "stream",
     "text": []
    },
    {
     "name": "stdout",
     "output_type": "stream",
     "text": [
      "Epoch: 04 | Epoch Time: 0m 21s\n",
      "\tTrain Loss: 2.304 | Train Acc: 9.78%\n",
      "\t Val. Loss: 2.303 |  Val. Acc: 10.19%\n"
     ]
    },
    {
     "name": "stderr",
     "output_type": "stream",
     "text": []
    },
    {
     "name": "stdout",
     "output_type": "stream",
     "text": [
      "Epoch: 05 | Epoch Time: 0m 21s\n",
      "\tTrain Loss: 2.303 | Train Acc: 10.07%\n",
      "\t Val. Loss: 2.303 |  Val. Acc: 10.19%\n"
     ]
    },
    {
     "name": "stderr",
     "output_type": "stream",
     "text": []
    },
    {
     "name": "stdout",
     "output_type": "stream",
     "text": [
      "Epoch: 06 | Epoch Time: 0m 21s\n",
      "\tTrain Loss: 2.304 | Train Acc: 9.83%\n",
      "\t Val. Loss: 2.303 |  Val. Acc: 10.15%\n"
     ]
    },
    {
     "name": "stderr",
     "output_type": "stream",
     "text": []
    },
    {
     "name": "stdout",
     "output_type": "stream",
     "text": [
      "Epoch: 07 | Epoch Time: 0m 18s\n",
      "\tTrain Loss: 2.303 | Train Acc: 9.99%\n",
      "\t Val. Loss: 2.303 |  Val. Acc: 10.05%\n"
     ]
    },
    {
     "name": "stderr",
     "output_type": "stream",
     "text": []
    },
    {
     "name": "stdout",
     "output_type": "stream",
     "text": [
      "Epoch: 08 | Epoch Time: 0m 17s\n",
      "\tTrain Loss: 2.303 | Train Acc: 10.01%\n",
      "\t Val. Loss: 2.304 |  Val. Acc: 9.41%\n"
     ]
    },
    {
     "name": "stderr",
     "output_type": "stream",
     "text": []
    },
    {
     "name": "stdout",
     "output_type": "stream",
     "text": [
      "Epoch: 09 | Epoch Time: 0m 18s\n",
      "\tTrain Loss: 2.304 | Train Acc: 9.94%\n",
      "\t Val. Loss: 2.303 |  Val. Acc: 10.15%\n"
     ]
    },
    {
     "name": "stderr",
     "output_type": "stream",
     "text": []
    },
    {
     "name": "stdout",
     "output_type": "stream",
     "text": [
      "Epoch: 10 | Epoch Time: 0m 18s\n",
      "\tTrain Loss: 2.304 | Train Acc: 9.80%\n",
      "\t Val. Loss: 2.303 |  Val. Acc: 10.56%\n"
     ]
    },
    {
     "name": "stderr",
     "output_type": "stream",
     "text": []
    },
    {
     "name": "stdout",
     "output_type": "stream",
     "text": [
      "Epoch: 11 | Epoch Time: 0m 18s\n",
      "\tTrain Loss: 2.303 | Train Acc: 10.05%\n",
      "\t Val. Loss: 2.304 |  Val. Acc: 10.50%\n"
     ]
    },
    {
     "name": "stderr",
     "output_type": "stream",
     "text": []
    },
    {
     "name": "stdout",
     "output_type": "stream",
     "text": [
      "Epoch: 12 | Epoch Time: 0m 18s\n",
      "\tTrain Loss: 2.303 | Train Acc: 10.05%\n",
      "\t Val. Loss: 2.303 |  Val. Acc: 10.25%\n"
     ]
    },
    {
     "name": "stderr",
     "output_type": "stream",
     "text": []
    },
    {
     "name": "stdout",
     "output_type": "stream",
     "text": [
      "Epoch: 13 | Epoch Time: 0m 18s\n",
      "\tTrain Loss: 2.303 | Train Acc: 9.82%\n",
      "\t Val. Loss: 2.303 |  Val. Acc: 10.15%\n"
     ]
    },
    {
     "name": "stderr",
     "output_type": "stream",
     "text": []
    },
    {
     "name": "stdout",
     "output_type": "stream",
     "text": [
      "Epoch: 14 | Epoch Time: 0m 18s\n",
      "\tTrain Loss: 2.304 | Train Acc: 9.71%\n",
      "\t Val. Loss: 2.303 |  Val. Acc: 10.15%\n"
     ]
    },
    {
     "name": "stderr",
     "output_type": "stream",
     "text": []
    },
    {
     "name": "stdout",
     "output_type": "stream",
     "text": [
      "Epoch: 15 | Epoch Time: 0m 18s\n",
      "\tTrain Loss: 2.303 | Train Acc: 10.03%\n",
      "\t Val. Loss: 2.303 |  Val. Acc: 10.05%\n"
     ]
    },
    {
     "name": "stderr",
     "output_type": "stream",
     "text": []
    },
    {
     "name": "stdout",
     "output_type": "stream",
     "text": [
      "Epoch: 16 | Epoch Time: 0m 18s\n",
      "\tTrain Loss: 2.303 | Train Acc: 9.88%\n",
      "\t Val. Loss: 2.304 |  Val. Acc: 10.15%\n"
     ]
    },
    {
     "name": "stderr",
     "output_type": "stream",
     "text": []
    },
    {
     "name": "stdout",
     "output_type": "stream",
     "text": [
      "Epoch: 17 | Epoch Time: 0m 18s\n",
      "\tTrain Loss: 2.303 | Train Acc: 9.93%\n",
      "\t Val. Loss: 2.302 |  Val. Acc: 10.01%\n"
     ]
    },
    {
     "name": "stderr",
     "output_type": "stream",
     "text": []
    },
    {
     "name": "stdout",
     "output_type": "stream",
     "text": [
      "Epoch: 18 | Epoch Time: 0m 18s\n",
      "\tTrain Loss: 2.303 | Train Acc: 9.87%\n",
      "\t Val. Loss: 2.303 |  Val. Acc: 9.51%\n"
     ]
    },
    {
     "name": "stderr",
     "output_type": "stream",
     "text": []
    },
    {
     "name": "stdout",
     "output_type": "stream",
     "text": [
      "Epoch: 19 | Epoch Time: 0m 19s\n",
      "\tTrain Loss: 2.304 | Train Acc: 9.79%\n",
      "\t Val. Loss: 2.303 |  Val. Acc: 9.63%\n"
     ]
    },
    {
     "name": "stderr",
     "output_type": "stream",
     "text": []
    },
    {
     "name": "stdout",
     "output_type": "stream",
     "text": [
      "Epoch: 20 | Epoch Time: 0m 18s\n",
      "\tTrain Loss: 2.303 | Train Acc: 9.83%\n",
      "\t Val. Loss: 2.303 |  Val. Acc: 9.41%\n"
     ]
    },
    {
     "name": "stderr",
     "output_type": "stream",
     "text": []
    },
    {
     "name": "stdout",
     "output_type": "stream",
     "text": [
      "Epoch: 21 | Epoch Time: 0m 18s\n",
      "\tTrain Loss: 2.303 | Train Acc: 9.80%\n",
      "\t Val. Loss: 2.304 |  Val. Acc: 10.01%\n"
     ]
    },
    {
     "name": "stderr",
     "output_type": "stream",
     "text": []
    },
    {
     "name": "stdout",
     "output_type": "stream",
     "text": [
      "Epoch: 22 | Epoch Time: 0m 18s\n",
      "\tTrain Loss: 2.303 | Train Acc: 9.98%\n",
      "\t Val. Loss: 2.304 |  Val. Acc: 10.56%\n"
     ]
    },
    {
     "name": "stderr",
     "output_type": "stream",
     "text": []
    },
    {
     "name": "stdout",
     "output_type": "stream",
     "text": [
      "Epoch: 23 | Epoch Time: 0m 18s\n",
      "\tTrain Loss: 2.303 | Train Acc: 9.88%\n",
      "\t Val. Loss: 2.303 |  Val. Acc: 9.63%\n"
     ]
    },
    {
     "name": "stderr",
     "output_type": "stream",
     "text": []
    },
    {
     "name": "stdout",
     "output_type": "stream",
     "text": [
      "Epoch: 24 | Epoch Time: 0m 18s\n",
      "\tTrain Loss: 2.303 | Train Acc: 10.08%\n",
      "\t Val. Loss: 2.303 |  Val. Acc: 10.15%\n"
     ]
    },
    {
     "name": "stderr",
     "output_type": "stream",
     "text": []
    },
    {
     "name": "stdout",
     "output_type": "stream",
     "text": [
      "Epoch: 25 | Epoch Time: 0m 18s\n",
      "\tTrain Loss: 2.303 | Train Acc: 10.15%\n",
      "\t Val. Loss: 2.304 |  Val. Acc: 9.63%\n"
     ]
    },
    {
     "name": "stderr",
     "output_type": "stream",
     "text": []
    },
    {
     "name": "stdout",
     "output_type": "stream",
     "text": [
      "Epoch: 26 | Epoch Time: 0m 18s\n",
      "\tTrain Loss: 2.304 | Train Acc: 9.78%\n",
      "\t Val. Loss: 2.303 |  Val. Acc: 9.41%\n"
     ]
    },
    {
     "name": "stderr",
     "output_type": "stream",
     "text": []
    },
    {
     "name": "stdout",
     "output_type": "stream",
     "text": [
      "Epoch: 27 | Epoch Time: 0m 18s\n",
      "\tTrain Loss: 2.303 | Train Acc: 9.96%\n",
      "\t Val. Loss: 2.304 |  Val. Acc: 10.25%\n"
     ]
    },
    {
     "name": "stderr",
     "output_type": "stream",
     "text": []
    },
    {
     "name": "stdout",
     "output_type": "stream",
     "text": [
      "Epoch: 28 | Epoch Time: 0m 18s\n",
      "\tTrain Loss: 2.303 | Train Acc: 10.05%\n",
      "\t Val. Loss: 2.303 |  Val. Acc: 10.05%\n"
     ]
    },
    {
     "name": "stderr",
     "output_type": "stream",
     "text": []
    },
    {
     "name": "stdout",
     "output_type": "stream",
     "text": [
      "Epoch: 29 | Epoch Time: 0m 18s\n",
      "\tTrain Loss: 2.303 | Train Acc: 9.90%\n",
      "\t Val. Loss: 2.303 |  Val. Acc: 10.15%\n"
     ]
    },
    {
     "name": "stderr",
     "output_type": "stream",
     "text": []
    },
    {
     "name": "stdout",
     "output_type": "stream",
     "text": [
      "Epoch: 30 | Epoch Time: 0m 18s\n",
      "\tTrain Loss: 2.303 | Train Acc: 9.87%\n",
      "\t Val. Loss: 2.303 |  Val. Acc: 10.25%\n"
     ]
    },
    {
     "name": "stderr",
     "output_type": "stream",
     "text": []
    },
    {
     "name": "stdout",
     "output_type": "stream",
     "text": [
      "Epoch: 31 | Epoch Time: 0m 18s\n",
      "\tTrain Loss: 2.303 | Train Acc: 10.09%\n",
      "\t Val. Loss: 2.303 |  Val. Acc: 9.63%\n"
     ]
    },
    {
     "name": "stderr",
     "output_type": "stream",
     "text": []
    },
    {
     "name": "stdout",
     "output_type": "stream",
     "text": [
      "Epoch: 32 | Epoch Time: 0m 18s\n",
      "\tTrain Loss: 2.303 | Train Acc: 10.17%\n",
      "\t Val. Loss: 2.302 |  Val. Acc: 10.56%\n"
     ]
    }
   ],
   "source": [
    "EPOCHS = 32\n",
    "\n",
    "train_losses = []\n",
    "valid_losses = []\n",
    "\n",
    "valid_accs = []\n",
    "train_accs = []\n",
    "\n",
    "best_valid_loss = float('inf')\n",
    "\n",
    "model = model.to(device)\n",
    "criterion = criterion.to(device)\n",
    "\n",
    "for epoch in trange(EPOCHS):\n",
    "\n",
    "  start_time = time.monotonic()\n",
    "\n",
    "  train_loss, train_acc = train_model(model, train_iterator, optimizer, criterion, device)\n",
    "  valid_loss, valid_acc = evaluate(model, valid_iterator, criterion, device)\n",
    "\n",
    "  train_losses.append(train_loss)\n",
    "  valid_losses.append(valid_loss)\n",
    "\n",
    "  train_accs.append(train_acc)\n",
    "  valid_accs.append(valid_acc)\n",
    "\n",
    "  if valid_loss < best_valid_loss:\n",
    "    best_valid_loss = valid_loss\n",
    "    torch.save(model.state_dict(), '../results/LeNet-02.pt')\n",
    "\n",
    "  end_time = time.monotonic()\n",
    "\n",
    "  epoch_mins, epoch_secs = epoch_time(start_time, end_time)\n",
    "\n",
    "  print(f'Epoch: {epoch+1:02} | Epoch Time: {epoch_mins}m {epoch_secs}s')\n",
    "  print(f'\\tTrain Loss: {train_loss:.3f} | Train Acc: {train_acc*100:.2f}%')\n",
    "  print(f'\\t Val. Loss: {valid_loss:.3f} |  Val. Acc: {valid_acc*100:.2f}%')\n",
    "\n",
    "train_stats = df_results(EPOCHS, train_losses, valid_losses, train_accs, valid_accs, \"LeNet-02-train-stats\")"
   ]
  },
  {
   "cell_type": "code",
   "execution_count": 22,
   "metadata": {},
   "outputs": [
    {
     "name": "stderr",
     "output_type": "stream",
     "text": [
      "                                                             "
     ]
    },
    {
     "name": "stdout",
     "output_type": "stream",
     "text": [
      "Test Loss: 2.303 | Test Acc: 9.95%\n"
     ]
    },
    {
     "name": "stderr",
     "output_type": "stream",
     "text": [
      "\r"
     ]
    }
   ],
   "source": [
    "model.load_state_dict(torch.load('../results/LeNet-02.pt'))\n",
    "\n",
    "test_loss, test_acc = evaluate(model, test_iterator, criterion, device)\n",
    "\n",
    "print(f'Test Loss: {test_loss:.3f} | Test Acc: {test_acc*100:.2f}%')"
   ]
  },
  {
   "attachments": {},
   "cell_type": "markdown",
   "metadata": {},
   "source": [
    "## Comparing Optimizers"
   ]
  },
  {
   "attachments": {},
   "cell_type": "markdown",
   "metadata": {},
   "source": [
    "### Model_03\n",
    "\n",
    " - Batch Size : 64\n",
    " - Loss function: Cross-Entropy Loss\n",
    " - Optimizer: Adam\n",
    " - Activation function: ReLu\n",
    " - Epoch : 32"
   ]
  },
  {
   "cell_type": "code",
   "execution_count": 23,
   "metadata": {},
   "outputs": [
    {
     "name": "stdout",
     "output_type": "stream",
     "text": [
      "The model has 62,006 trainable parameters\n"
     ]
    },
    {
     "data": {
      "text/plain": [
       "LeNet(\n",
       "  (conv1): Conv2d(3, 6, kernel_size=(5, 5), stride=(1, 1))\n",
       "  (pool1): MaxPool2d(kernel_size=2, stride=2, padding=0, dilation=1, ceil_mode=False)\n",
       "  (conv2): Conv2d(6, 16, kernel_size=(5, 5), stride=(1, 1))\n",
       "  (pool2): MaxPool2d(kernel_size=2, stride=2, padding=0, dilation=1, ceil_mode=False)\n",
       "  (fc1): Linear(in_features=400, out_features=120, bias=True)\n",
       "  (fc2): Linear(in_features=120, out_features=84, bias=True)\n",
       "  (fc3): Linear(in_features=84, out_features=10, bias=True)\n",
       ")"
      ]
     },
     "execution_count": 23,
     "metadata": {},
     "output_type": "execute_result"
    }
   ],
   "source": [
    "model = LeNet()\n",
    "print(f'The model has {count_parameters(model):,} trainable parameters')\n",
    "model"
   ]
  },
  {
   "cell_type": "code",
   "execution_count": 24,
   "metadata": {},
   "outputs": [],
   "source": [
    "BATCH_SIZE = 64\n",
    "train_iterator, valid_iterator, test_iterator = create_data_loaders(train_data,\n",
    "                                                                    valid_data,\n",
    "                                                                    test_data,\n",
    "                                                                    BATCH_SIZE)\n",
    "criterion = torch.nn.CrossEntropyLoss()\n",
    "optimizer = torch.optim.Adam(model.parameters(), lr=0.001)"
   ]
  },
  {
   "cell_type": "code",
   "execution_count": 25,
   "metadata": {},
   "outputs": [
    {
     "name": "stdout",
     "output_type": "stream",
     "text": [
      "Current device is : cuda\n"
     ]
    }
   ],
   "source": [
    "device = torch.device('cuda' if torch.cuda.is_available() else 'cpu')\n",
    "print(f\"Current device is : {device}\")"
   ]
  },
  {
   "cell_type": "code",
   "execution_count": 26,
   "metadata": {},
   "outputs": [
    {
     "data": {
      "application/vnd.jupyter.widget-view+json": {
       "model_id": "29d4a38950964dc0b5afb1b9b835a3d1",
       "version_major": 2,
       "version_minor": 0
      },
      "text/plain": [
       "  0%|          | 0/32 [00:00<?, ?it/s]"
      ]
     },
     "metadata": {},
     "output_type": "display_data"
    },
    {
     "name": "stderr",
     "output_type": "stream",
     "text": []
    },
    {
     "name": "stdout",
     "output_type": "stream",
     "text": [
      "Epoch: 01 | Epoch Time: 0m 20s\n",
      "\tTrain Loss: 1.649 | Train Acc: 39.65%\n",
      "\t Val. Loss: 1.470 |  Val. Acc: 46.60%\n"
     ]
    },
    {
     "name": "stderr",
     "output_type": "stream",
     "text": []
    },
    {
     "name": "stdout",
     "output_type": "stream",
     "text": [
      "Epoch: 02 | Epoch Time: 0m 18s\n",
      "\tTrain Loss: 1.365 | Train Acc: 50.65%\n",
      "\t Val. Loss: 1.327 |  Val. Acc: 51.34%\n"
     ]
    },
    {
     "name": "stderr",
     "output_type": "stream",
     "text": []
    },
    {
     "name": "stdout",
     "output_type": "stream",
     "text": [
      "Epoch: 03 | Epoch Time: 0m 18s\n",
      "\tTrain Loss: 1.251 | Train Acc: 55.26%\n",
      "\t Val. Loss: 1.235 |  Val. Acc: 55.28%\n"
     ]
    },
    {
     "name": "stderr",
     "output_type": "stream",
     "text": []
    },
    {
     "name": "stdout",
     "output_type": "stream",
     "text": [
      "Epoch: 04 | Epoch Time: 0m 18s\n",
      "\tTrain Loss: 1.174 | Train Acc: 58.13%\n",
      "\t Val. Loss: 1.210 |  Val. Acc: 56.03%\n"
     ]
    },
    {
     "name": "stderr",
     "output_type": "stream",
     "text": []
    },
    {
     "name": "stdout",
     "output_type": "stream",
     "text": [
      "Epoch: 05 | Epoch Time: 0m 18s\n",
      "\tTrain Loss: 1.111 | Train Acc: 60.59%\n",
      "\t Val. Loss: 1.176 |  Val. Acc: 57.85%\n"
     ]
    },
    {
     "name": "stderr",
     "output_type": "stream",
     "text": []
    },
    {
     "name": "stdout",
     "output_type": "stream",
     "text": [
      "Epoch: 06 | Epoch Time: 0m 17s\n",
      "\tTrain Loss: 1.058 | Train Acc: 62.33%\n",
      "\t Val. Loss: 1.150 |  Val. Acc: 58.96%\n"
     ]
    },
    {
     "name": "stderr",
     "output_type": "stream",
     "text": []
    },
    {
     "name": "stdout",
     "output_type": "stream",
     "text": [
      "Epoch: 07 | Epoch Time: 0m 20s\n",
      "\tTrain Loss: 1.016 | Train Acc: 63.91%\n",
      "\t Val. Loss: 1.095 |  Val. Acc: 60.42%\n"
     ]
    },
    {
     "name": "stderr",
     "output_type": "stream",
     "text": []
    },
    {
     "name": "stdout",
     "output_type": "stream",
     "text": [
      "Epoch: 08 | Epoch Time: 0m 22s\n",
      "\tTrain Loss: 0.974 | Train Acc: 65.62%\n",
      "\t Val. Loss: 1.123 |  Val. Acc: 60.11%\n"
     ]
    },
    {
     "name": "stderr",
     "output_type": "stream",
     "text": []
    },
    {
     "name": "stdout",
     "output_type": "stream",
     "text": [
      "Epoch: 09 | Epoch Time: 0m 21s\n",
      "\tTrain Loss: 0.935 | Train Acc: 66.96%\n",
      "\t Val. Loss: 1.103 |  Val. Acc: 61.29%\n"
     ]
    },
    {
     "name": "stderr",
     "output_type": "stream",
     "text": []
    },
    {
     "name": "stdout",
     "output_type": "stream",
     "text": [
      "Epoch: 10 | Epoch Time: 0m 20s\n",
      "\tTrain Loss: 0.900 | Train Acc: 68.06%\n",
      "\t Val. Loss: 1.073 |  Val. Acc: 61.93%\n"
     ]
    },
    {
     "name": "stderr",
     "output_type": "stream",
     "text": []
    },
    {
     "name": "stdout",
     "output_type": "stream",
     "text": [
      "Epoch: 11 | Epoch Time: 0m 20s\n",
      "\tTrain Loss: 0.869 | Train Acc: 69.44%\n",
      "\t Val. Loss: 1.104 |  Val. Acc: 61.39%\n"
     ]
    },
    {
     "name": "stderr",
     "output_type": "stream",
     "text": []
    },
    {
     "name": "stdout",
     "output_type": "stream",
     "text": [
      "Epoch: 12 | Epoch Time: 0m 19s\n",
      "\tTrain Loss: 0.838 | Train Acc: 70.43%\n",
      "\t Val. Loss: 1.080 |  Val. Acc: 62.20%\n"
     ]
    },
    {
     "name": "stderr",
     "output_type": "stream",
     "text": []
    },
    {
     "name": "stdout",
     "output_type": "stream",
     "text": [
      "Epoch: 13 | Epoch Time: 0m 18s\n",
      "\tTrain Loss: 0.810 | Train Acc: 71.13%\n",
      "\t Val. Loss: 1.098 |  Val. Acc: 61.53%\n"
     ]
    },
    {
     "name": "stderr",
     "output_type": "stream",
     "text": []
    },
    {
     "name": "stdout",
     "output_type": "stream",
     "text": [
      "Epoch: 14 | Epoch Time: 0m 18s\n",
      "\tTrain Loss: 0.782 | Train Acc: 72.40%\n",
      "\t Val. Loss: 1.117 |  Val. Acc: 61.87%\n"
     ]
    },
    {
     "name": "stderr",
     "output_type": "stream",
     "text": []
    },
    {
     "name": "stdout",
     "output_type": "stream",
     "text": [
      "Epoch: 15 | Epoch Time: 0m 18s\n",
      "\tTrain Loss: 0.759 | Train Acc: 73.28%\n",
      "\t Val. Loss: 1.158 |  Val. Acc: 61.57%\n"
     ]
    },
    {
     "name": "stderr",
     "output_type": "stream",
     "text": []
    },
    {
     "name": "stdout",
     "output_type": "stream",
     "text": [
      "Epoch: 16 | Epoch Time: 0m 18s\n",
      "\tTrain Loss: 0.738 | Train Acc: 73.84%\n",
      "\t Val. Loss: 1.121 |  Val. Acc: 62.18%\n"
     ]
    },
    {
     "name": "stderr",
     "output_type": "stream",
     "text": []
    },
    {
     "name": "stdout",
     "output_type": "stream",
     "text": [
      "Epoch: 17 | Epoch Time: 0m 18s\n",
      "\tTrain Loss: 0.712 | Train Acc: 74.66%\n",
      "\t Val. Loss: 1.130 |  Val. Acc: 62.30%\n"
     ]
    },
    {
     "name": "stderr",
     "output_type": "stream",
     "text": []
    },
    {
     "name": "stdout",
     "output_type": "stream",
     "text": [
      "Epoch: 18 | Epoch Time: 0m 18s\n",
      "\tTrain Loss: 0.692 | Train Acc: 75.45%\n",
      "\t Val. Loss: 1.163 |  Val. Acc: 62.24%\n"
     ]
    },
    {
     "name": "stderr",
     "output_type": "stream",
     "text": []
    },
    {
     "name": "stdout",
     "output_type": "stream",
     "text": [
      "Epoch: 19 | Epoch Time: 0m 18s\n",
      "\tTrain Loss: 0.671 | Train Acc: 76.15%\n",
      "\t Val. Loss: 1.182 |  Val. Acc: 62.74%\n"
     ]
    },
    {
     "name": "stderr",
     "output_type": "stream",
     "text": []
    },
    {
     "name": "stdout",
     "output_type": "stream",
     "text": [
      "Epoch: 20 | Epoch Time: 0m 18s\n",
      "\tTrain Loss: 0.648 | Train Acc: 76.92%\n",
      "\t Val. Loss: 1.181 |  Val. Acc: 62.10%\n"
     ]
    },
    {
     "name": "stderr",
     "output_type": "stream",
     "text": []
    },
    {
     "name": "stdout",
     "output_type": "stream",
     "text": [
      "Epoch: 21 | Epoch Time: 0m 18s\n",
      "\tTrain Loss: 0.631 | Train Acc: 77.46%\n",
      "\t Val. Loss: 1.189 |  Val. Acc: 62.66%\n"
     ]
    },
    {
     "name": "stderr",
     "output_type": "stream",
     "text": []
    },
    {
     "name": "stdout",
     "output_type": "stream",
     "text": [
      "Epoch: 22 | Epoch Time: 0m 19s\n",
      "\tTrain Loss: 0.611 | Train Acc: 78.18%\n",
      "\t Val. Loss: 1.215 |  Val. Acc: 61.04%\n"
     ]
    },
    {
     "name": "stderr",
     "output_type": "stream",
     "text": []
    },
    {
     "name": "stdout",
     "output_type": "stream",
     "text": [
      "Epoch: 23 | Epoch Time: 0m 18s\n",
      "\tTrain Loss: 0.590 | Train Acc: 79.01%\n",
      "\t Val. Loss: 1.243 |  Val. Acc: 62.06%\n"
     ]
    },
    {
     "name": "stderr",
     "output_type": "stream",
     "text": []
    },
    {
     "name": "stdout",
     "output_type": "stream",
     "text": [
      "Epoch: 24 | Epoch Time: 0m 18s\n",
      "\tTrain Loss: 0.572 | Train Acc: 79.62%\n",
      "\t Val. Loss: 1.282 |  Val. Acc: 61.37%\n"
     ]
    },
    {
     "name": "stderr",
     "output_type": "stream",
     "text": []
    },
    {
     "name": "stdout",
     "output_type": "stream",
     "text": [
      "Epoch: 25 | Epoch Time: 0m 18s\n",
      "\tTrain Loss: 0.557 | Train Acc: 80.00%\n",
      "\t Val. Loss: 1.322 |  Val. Acc: 61.41%\n"
     ]
    },
    {
     "name": "stderr",
     "output_type": "stream",
     "text": []
    },
    {
     "name": "stdout",
     "output_type": "stream",
     "text": [
      "Epoch: 26 | Epoch Time: 0m 18s\n",
      "\tTrain Loss: 0.543 | Train Acc: 80.58%\n",
      "\t Val. Loss: 1.321 |  Val. Acc: 61.31%\n"
     ]
    },
    {
     "name": "stderr",
     "output_type": "stream",
     "text": []
    },
    {
     "name": "stdout",
     "output_type": "stream",
     "text": [
      "Epoch: 27 | Epoch Time: 0m 17s\n",
      "\tTrain Loss: 0.521 | Train Acc: 81.25%\n",
      "\t Val. Loss: 1.344 |  Val. Acc: 61.39%\n"
     ]
    },
    {
     "name": "stderr",
     "output_type": "stream",
     "text": []
    },
    {
     "name": "stdout",
     "output_type": "stream",
     "text": [
      "Epoch: 28 | Epoch Time: 0m 18s\n",
      "\tTrain Loss: 0.506 | Train Acc: 81.82%\n",
      "\t Val. Loss: 1.403 |  Val. Acc: 61.14%\n"
     ]
    },
    {
     "name": "stderr",
     "output_type": "stream",
     "text": []
    },
    {
     "name": "stdout",
     "output_type": "stream",
     "text": [
      "Epoch: 29 | Epoch Time: 0m 18s\n",
      "\tTrain Loss: 0.495 | Train Acc: 82.28%\n",
      "\t Val. Loss: 1.412 |  Val. Acc: 61.35%\n"
     ]
    },
    {
     "name": "stderr",
     "output_type": "stream",
     "text": []
    },
    {
     "name": "stdout",
     "output_type": "stream",
     "text": [
      "Epoch: 30 | Epoch Time: 0m 18s\n",
      "\tTrain Loss: 0.477 | Train Acc: 83.09%\n",
      "\t Val. Loss: 1.521 |  Val. Acc: 59.91%\n"
     ]
    },
    {
     "name": "stderr",
     "output_type": "stream",
     "text": []
    },
    {
     "name": "stdout",
     "output_type": "stream",
     "text": [
      "Epoch: 31 | Epoch Time: 0m 18s\n",
      "\tTrain Loss: 0.471 | Train Acc: 83.09%\n",
      "\t Val. Loss: 1.466 |  Val. Acc: 60.50%\n"
     ]
    },
    {
     "name": "stderr",
     "output_type": "stream",
     "text": []
    },
    {
     "name": "stdout",
     "output_type": "stream",
     "text": [
      "Epoch: 32 | Epoch Time: 0m 18s\n",
      "\tTrain Loss: 0.451 | Train Acc: 83.69%\n",
      "\t Val. Loss: 1.539 |  Val. Acc: 60.54%\n"
     ]
    }
   ],
   "source": [
    "EPOCHS = 32\n",
    "\n",
    "train_losses = []\n",
    "valid_losses = []\n",
    "\n",
    "valid_accs = []\n",
    "train_accs = []\n",
    "\n",
    "best_valid_loss = float('inf')\n",
    "\n",
    "model = model.to(device)\n",
    "criterion = criterion.to(device)\n",
    "\n",
    "for epoch in trange(EPOCHS):\n",
    "\n",
    "  start_time = time.monotonic()\n",
    "\n",
    "  train_loss, train_acc = train_model(model, train_iterator, optimizer, criterion, device)\n",
    "  valid_loss, valid_acc = evaluate(model, valid_iterator, criterion, device)\n",
    "\n",
    "  train_losses.append(train_loss)\n",
    "  valid_losses.append(valid_loss)\n",
    "\n",
    "  train_accs.append(train_acc)\n",
    "  valid_accs.append(valid_acc)\n",
    "\n",
    "  if valid_loss < best_valid_loss:\n",
    "    best_valid_loss = valid_loss\n",
    "    torch.save(model.state_dict(), '../results/LeNet-03.pt')\n",
    "\n",
    "  end_time = time.monotonic()\n",
    "\n",
    "  epoch_mins, epoch_secs = epoch_time(start_time, end_time)\n",
    "\n",
    "  print(f'Epoch: {epoch+1:02} | Epoch Time: {epoch_mins}m {epoch_secs}s')\n",
    "  print(f'\\tTrain Loss: {train_loss:.3f} | Train Acc: {train_acc*100:.2f}%')\n",
    "  print(f'\\t Val. Loss: {valid_loss:.3f} |  Val. Acc: {valid_acc*100:.2f}%')\n",
    "\n",
    "train_stats = df_results(EPOCHS, train_losses, valid_losses, train_accs, valid_accs, \"LeNet-03-train-stats\")"
   ]
  },
  {
   "cell_type": "code",
   "execution_count": 27,
   "metadata": {},
   "outputs": [
    {
     "name": "stderr",
     "output_type": "stream",
     "text": [
      "                                                             "
     ]
    },
    {
     "name": "stdout",
     "output_type": "stream",
     "text": [
      "Test Loss: 1.074 | Test Acc: 63.18%\n"
     ]
    },
    {
     "name": "stderr",
     "output_type": "stream",
     "text": [
      "\r"
     ]
    }
   ],
   "source": [
    "model.load_state_dict(torch.load('../results/LeNet-03.pt'))\n",
    "\n",
    "test_loss, test_acc = evaluate(model, test_iterator, criterion, device)\n",
    "\n",
    "print(f'Test Loss: {test_loss:.3f} | Test Acc: {test_acc*100:.2f}%')"
   ]
  },
  {
   "attachments": {},
   "cell_type": "markdown",
   "metadata": {},
   "source": [
    "## Comparing Batch Sizes"
   ]
  },
  {
   "attachments": {},
   "cell_type": "markdown",
   "metadata": {},
   "source": [
    "### Model_04\n",
    "\n",
    " - Batch Size : 4\n",
    " - Loss function: Cross-Entropy Loss\n",
    " - Optimizer: Stochastic Gradient Descent (SGD)\n",
    " - Activation function: ReLu\n",
    " - Epoch : 32"
   ]
  },
  {
   "cell_type": "code",
   "execution_count": 28,
   "metadata": {},
   "outputs": [
    {
     "name": "stdout",
     "output_type": "stream",
     "text": [
      "The model has 62,006 trainable parameters\n"
     ]
    },
    {
     "data": {
      "text/plain": [
       "LeNet(\n",
       "  (conv1): Conv2d(3, 6, kernel_size=(5, 5), stride=(1, 1))\n",
       "  (pool1): MaxPool2d(kernel_size=2, stride=2, padding=0, dilation=1, ceil_mode=False)\n",
       "  (conv2): Conv2d(6, 16, kernel_size=(5, 5), stride=(1, 1))\n",
       "  (pool2): MaxPool2d(kernel_size=2, stride=2, padding=0, dilation=1, ceil_mode=False)\n",
       "  (fc1): Linear(in_features=400, out_features=120, bias=True)\n",
       "  (fc2): Linear(in_features=120, out_features=84, bias=True)\n",
       "  (fc3): Linear(in_features=84, out_features=10, bias=True)\n",
       ")"
      ]
     },
     "execution_count": 28,
     "metadata": {},
     "output_type": "execute_result"
    }
   ],
   "source": [
    "model = LeNet()\n",
    "print(f'The model has {count_parameters(model):,} trainable parameters')\n",
    "model"
   ]
  },
  {
   "cell_type": "code",
   "execution_count": 29,
   "metadata": {},
   "outputs": [],
   "source": [
    "BATCH_SIZE = 4\n",
    "train_iterator, valid_iterator, test_iterator = create_data_loaders(train_data,\n",
    "                                                                    valid_data,\n",
    "                                                                    test_data,\n",
    "                                                                    BATCH_SIZE)\n",
    "criterion = torch.nn.CrossEntropyLoss()\n",
    "optimizer = torch.optim.SGD(model.parameters(), lr = 0.001, momentum = 0.9)"
   ]
  },
  {
   "cell_type": "code",
   "execution_count": 30,
   "metadata": {},
   "outputs": [
    {
     "name": "stdout",
     "output_type": "stream",
     "text": [
      "Current device is : cuda\n"
     ]
    }
   ],
   "source": [
    "device = torch.device('cuda' if torch.cuda.is_available() else 'cpu')\n",
    "print(f\"Current device is : {device}\")"
   ]
  },
  {
   "cell_type": "code",
   "execution_count": 31,
   "metadata": {},
   "outputs": [
    {
     "data": {
      "application/vnd.jupyter.widget-view+json": {
       "model_id": "e1a9932aa5474b12b20ec0a39bb86cc1",
       "version_major": 2,
       "version_minor": 0
      },
      "text/plain": [
       "  0%|          | 0/32 [00:00<?, ?it/s]"
      ]
     },
     "metadata": {},
     "output_type": "display_data"
    },
    {
     "name": "stderr",
     "output_type": "stream",
     "text": []
    },
    {
     "name": "stdout",
     "output_type": "stream",
     "text": [
      "Epoch: 01 | Epoch Time: 0m 53s\n",
      "\tTrain Loss: 1.702 | Train Acc: 36.93%\n",
      "\t Val. Loss: 1.561 |  Val. Acc: 43.14%\n"
     ]
    },
    {
     "name": "stderr",
     "output_type": "stream",
     "text": []
    },
    {
     "name": "stdout",
     "output_type": "stream",
     "text": [
      "Epoch: 02 | Epoch Time: 0m 54s\n",
      "\tTrain Loss: 1.365 | Train Acc: 51.10%\n",
      "\t Val. Loss: 1.351 |  Val. Acc: 50.72%\n"
     ]
    },
    {
     "name": "stderr",
     "output_type": "stream",
     "text": []
    },
    {
     "name": "stdout",
     "output_type": "stream",
     "text": [
      "Epoch: 03 | Epoch Time: 0m 52s\n",
      "\tTrain Loss: 1.230 | Train Acc: 56.29%\n",
      "\t Val. Loss: 1.286 |  Val. Acc: 54.40%\n"
     ]
    },
    {
     "name": "stderr",
     "output_type": "stream",
     "text": []
    },
    {
     "name": "stdout",
     "output_type": "stream",
     "text": [
      "Epoch: 04 | Epoch Time: 0m 53s\n",
      "\tTrain Loss: 1.136 | Train Acc: 59.87%\n",
      "\t Val. Loss: 1.194 |  Val. Acc: 57.64%\n"
     ]
    },
    {
     "name": "stderr",
     "output_type": "stream",
     "text": []
    },
    {
     "name": "stdout",
     "output_type": "stream",
     "text": [
      "Epoch: 05 | Epoch Time: 0m 56s\n",
      "\tTrain Loss: 1.068 | Train Acc: 62.29%\n",
      "\t Val. Loss: 1.169 |  Val. Acc: 59.16%\n"
     ]
    },
    {
     "name": "stderr",
     "output_type": "stream",
     "text": []
    },
    {
     "name": "stdout",
     "output_type": "stream",
     "text": [
      "Epoch: 06 | Epoch Time: 0m 52s\n",
      "\tTrain Loss: 1.013 | Train Acc: 64.42%\n",
      "\t Val. Loss: 1.228 |  Val. Acc: 57.42%\n"
     ]
    },
    {
     "name": "stderr",
     "output_type": "stream",
     "text": []
    },
    {
     "name": "stdout",
     "output_type": "stream",
     "text": [
      "Epoch: 07 | Epoch Time: 0m 52s\n",
      "\tTrain Loss: 0.969 | Train Acc: 65.81%\n",
      "\t Val. Loss: 1.139 |  Val. Acc: 59.40%\n"
     ]
    },
    {
     "name": "stderr",
     "output_type": "stream",
     "text": []
    },
    {
     "name": "stdout",
     "output_type": "stream",
     "text": [
      "Epoch: 08 | Epoch Time: 0m 53s\n",
      "\tTrain Loss: 0.928 | Train Acc: 67.24%\n",
      "\t Val. Loss: 1.244 |  Val. Acc: 58.28%\n"
     ]
    },
    {
     "name": "stderr",
     "output_type": "stream",
     "text": []
    },
    {
     "name": "stdout",
     "output_type": "stream",
     "text": [
      "Epoch: 09 | Epoch Time: 0m 54s\n",
      "\tTrain Loss: 0.892 | Train Acc: 68.39%\n",
      "\t Val. Loss: 1.167 |  Val. Acc: 59.60%\n"
     ]
    },
    {
     "name": "stderr",
     "output_type": "stream",
     "text": []
    },
    {
     "name": "stdout",
     "output_type": "stream",
     "text": [
      "Epoch: 10 | Epoch Time: 0m 56s\n",
      "\tTrain Loss: 0.856 | Train Acc: 69.55%\n",
      "\t Val. Loss: 1.176 |  Val. Acc: 60.16%\n"
     ]
    },
    {
     "name": "stderr",
     "output_type": "stream",
     "text": []
    },
    {
     "name": "stdout",
     "output_type": "stream",
     "text": [
      "Epoch: 11 | Epoch Time: 0m 56s\n",
      "\tTrain Loss: 0.833 | Train Acc: 70.52%\n",
      "\t Val. Loss: 1.208 |  Val. Acc: 59.84%\n"
     ]
    },
    {
     "name": "stderr",
     "output_type": "stream",
     "text": []
    },
    {
     "name": "stdout",
     "output_type": "stream",
     "text": [
      "Epoch: 12 | Epoch Time: 1m 2s\n",
      "\tTrain Loss: 0.802 | Train Acc: 71.51%\n",
      "\t Val. Loss: 1.239 |  Val. Acc: 59.58%\n"
     ]
    },
    {
     "name": "stderr",
     "output_type": "stream",
     "text": []
    },
    {
     "name": "stdout",
     "output_type": "stream",
     "text": [
      "Epoch: 13 | Epoch Time: 0m 57s\n",
      "\tTrain Loss: 0.783 | Train Acc: 72.09%\n",
      "\t Val. Loss: 1.266 |  Val. Acc: 59.34%\n"
     ]
    },
    {
     "name": "stderr",
     "output_type": "stream",
     "text": []
    },
    {
     "name": "stdout",
     "output_type": "stream",
     "text": [
      "Epoch: 14 | Epoch Time: 0m 58s\n",
      "\tTrain Loss: 0.763 | Train Acc: 72.97%\n",
      "\t Val. Loss: 1.316 |  Val. Acc: 58.82%\n"
     ]
    },
    {
     "name": "stderr",
     "output_type": "stream",
     "text": []
    },
    {
     "name": "stdout",
     "output_type": "stream",
     "text": [
      "Epoch: 15 | Epoch Time: 0m 57s\n",
      "\tTrain Loss: 0.744 | Train Acc: 73.71%\n",
      "\t Val. Loss: 1.319 |  Val. Acc: 59.86%\n"
     ]
    },
    {
     "name": "stderr",
     "output_type": "stream",
     "text": []
    },
    {
     "name": "stdout",
     "output_type": "stream",
     "text": [
      "Epoch: 16 | Epoch Time: 0m 57s\n",
      "\tTrain Loss: 0.731 | Train Acc: 74.13%\n",
      "\t Val. Loss: 1.302 |  Val. Acc: 60.14%\n"
     ]
    },
    {
     "name": "stderr",
     "output_type": "stream",
     "text": []
    },
    {
     "name": "stdout",
     "output_type": "stream",
     "text": [
      "Epoch: 17 | Epoch Time: 0m 55s\n",
      "\tTrain Loss: 0.708 | Train Acc: 75.03%\n",
      "\t Val. Loss: 1.396 |  Val. Acc: 58.38%\n"
     ]
    },
    {
     "name": "stderr",
     "output_type": "stream",
     "text": []
    },
    {
     "name": "stdout",
     "output_type": "stream",
     "text": [
      "Epoch: 18 | Epoch Time: 0m 54s\n",
      "\tTrain Loss: 0.697 | Train Acc: 75.25%\n",
      "\t Val. Loss: 1.380 |  Val. Acc: 59.32%\n"
     ]
    },
    {
     "name": "stderr",
     "output_type": "stream",
     "text": []
    },
    {
     "name": "stdout",
     "output_type": "stream",
     "text": [
      "Epoch: 19 | Epoch Time: 0m 56s\n",
      "\tTrain Loss: 0.687 | Train Acc: 75.64%\n",
      "\t Val. Loss: 1.375 |  Val. Acc: 59.46%\n"
     ]
    },
    {
     "name": "stderr",
     "output_type": "stream",
     "text": []
    },
    {
     "name": "stdout",
     "output_type": "stream",
     "text": [
      "Epoch: 20 | Epoch Time: 0m 52s\n",
      "\tTrain Loss: 0.682 | Train Acc: 75.98%\n",
      "\t Val. Loss: 1.417 |  Val. Acc: 59.12%\n"
     ]
    },
    {
     "name": "stderr",
     "output_type": "stream",
     "text": []
    },
    {
     "name": "stdout",
     "output_type": "stream",
     "text": [
      "Epoch: 21 | Epoch Time: 0m 54s\n",
      "\tTrain Loss: 0.663 | Train Acc: 76.76%\n",
      "\t Val. Loss: 1.471 |  Val. Acc: 58.46%\n"
     ]
    },
    {
     "name": "stderr",
     "output_type": "stream",
     "text": []
    },
    {
     "name": "stdout",
     "output_type": "stream",
     "text": [
      "Epoch: 22 | Epoch Time: 0m 54s\n",
      "\tTrain Loss: 0.658 | Train Acc: 76.89%\n",
      "\t Val. Loss: 1.516 |  Val. Acc: 57.98%\n"
     ]
    },
    {
     "name": "stderr",
     "output_type": "stream",
     "text": []
    },
    {
     "name": "stdout",
     "output_type": "stream",
     "text": [
      "Epoch: 23 | Epoch Time: 1m 5s\n",
      "\tTrain Loss: 0.645 | Train Acc: 77.33%\n",
      "\t Val. Loss: 1.642 |  Val. Acc: 56.94%\n"
     ]
    },
    {
     "name": "stderr",
     "output_type": "stream",
     "text": []
    },
    {
     "name": "stdout",
     "output_type": "stream",
     "text": [
      "Epoch: 24 | Epoch Time: 1m 57s\n",
      "\tTrain Loss: 0.644 | Train Acc: 77.42%\n",
      "\t Val. Loss: 1.483 |  Val. Acc: 57.96%\n"
     ]
    },
    {
     "name": "stderr",
     "output_type": "stream",
     "text": []
    },
    {
     "name": "stdout",
     "output_type": "stream",
     "text": [
      "Epoch: 25 | Epoch Time: 2m 1s\n",
      "\tTrain Loss: 0.636 | Train Acc: 77.61%\n",
      "\t Val. Loss: 1.578 |  Val. Acc: 58.14%\n"
     ]
    },
    {
     "name": "stderr",
     "output_type": "stream",
     "text": []
    },
    {
     "name": "stdout",
     "output_type": "stream",
     "text": [
      "Epoch: 26 | Epoch Time: 1m 39s\n",
      "\tTrain Loss: 0.627 | Train Acc: 78.08%\n",
      "\t Val. Loss: 1.565 |  Val. Acc: 59.00%\n"
     ]
    },
    {
     "name": "stderr",
     "output_type": "stream",
     "text": []
    },
    {
     "name": "stdout",
     "output_type": "stream",
     "text": [
      "Epoch: 27 | Epoch Time: 1m 6s\n",
      "\tTrain Loss: 0.626 | Train Acc: 78.14%\n",
      "\t Val. Loss: 1.636 |  Val. Acc: 57.88%\n"
     ]
    },
    {
     "name": "stderr",
     "output_type": "stream",
     "text": []
    },
    {
     "name": "stdout",
     "output_type": "stream",
     "text": [
      "Epoch: 28 | Epoch Time: 1m 5s\n",
      "\tTrain Loss: 0.621 | Train Acc: 78.23%\n",
      "\t Val. Loss: 1.640 |  Val. Acc: 56.76%\n"
     ]
    },
    {
     "name": "stderr",
     "output_type": "stream",
     "text": []
    },
    {
     "name": "stdout",
     "output_type": "stream",
     "text": [
      "Epoch: 29 | Epoch Time: 1m 4s\n",
      "\tTrain Loss: 0.614 | Train Acc: 78.60%\n",
      "\t Val. Loss: 1.598 |  Val. Acc: 58.96%\n"
     ]
    },
    {
     "name": "stderr",
     "output_type": "stream",
     "text": []
    },
    {
     "name": "stdout",
     "output_type": "stream",
     "text": [
      "Epoch: 30 | Epoch Time: 1m 6s\n",
      "\tTrain Loss: 0.606 | Train Acc: 78.72%\n",
      "\t Val. Loss: 1.744 |  Val. Acc: 57.30%\n"
     ]
    },
    {
     "name": "stderr",
     "output_type": "stream",
     "text": []
    },
    {
     "name": "stdout",
     "output_type": "stream",
     "text": [
      "Epoch: 31 | Epoch Time: 1m 4s\n",
      "\tTrain Loss: 0.614 | Train Acc: 78.74%\n",
      "\t Val. Loss: 1.581 |  Val. Acc: 58.54%\n"
     ]
    },
    {
     "name": "stderr",
     "output_type": "stream",
     "text": []
    },
    {
     "name": "stdout",
     "output_type": "stream",
     "text": [
      "Epoch: 32 | Epoch Time: 1m 6s\n",
      "\tTrain Loss: 0.607 | Train Acc: 79.16%\n",
      "\t Val. Loss: 1.702 |  Val. Acc: 56.56%\n"
     ]
    }
   ],
   "source": [
    "EPOCHS = 32\n",
    "\n",
    "train_losses = []\n",
    "valid_losses = []\n",
    "\n",
    "valid_accs = []\n",
    "train_accs = []\n",
    "\n",
    "best_valid_loss = float('inf')\n",
    "\n",
    "model = model.to(device)\n",
    "criterion = criterion.to(device)\n",
    "\n",
    "for epoch in trange(EPOCHS):\n",
    "\n",
    "  start_time = time.monotonic()\n",
    "\n",
    "  train_loss, train_acc = train_model(model, train_iterator, optimizer, criterion, device)\n",
    "  valid_loss, valid_acc = evaluate(model, valid_iterator, criterion, device)\n",
    "\n",
    "  train_losses.append(train_loss)\n",
    "  valid_losses.append(valid_loss)\n",
    "\n",
    "  train_accs.append(train_acc)\n",
    "  valid_accs.append(valid_acc)\n",
    "\n",
    "  if valid_loss < best_valid_loss:\n",
    "    best_valid_loss = valid_loss\n",
    "    torch.save(model.state_dict(), '../results/LeNet-04.pt')\n",
    "\n",
    "  end_time = time.monotonic()\n",
    "\n",
    "  epoch_mins, epoch_secs = epoch_time(start_time, end_time)\n",
    "\n",
    "  print(f'Epoch: {epoch+1:02} | Epoch Time: {epoch_mins}m {epoch_secs}s')\n",
    "  print(f'\\tTrain Loss: {train_loss:.3f} | Train Acc: {train_acc*100:.2f}%')\n",
    "  print(f'\\t Val. Loss: {valid_loss:.3f} |  Val. Acc: {valid_acc*100:.2f}%')\n",
    "\n",
    "train_stats = df_results(EPOCHS, train_losses, valid_losses, train_accs, valid_accs, \"LeNet-04-train-stats\")"
   ]
  },
  {
   "cell_type": "code",
   "execution_count": 32,
   "metadata": {},
   "outputs": [
    {
     "name": "stderr",
     "output_type": "stream",
     "text": [
      "                                                                "
     ]
    },
    {
     "name": "stdout",
     "output_type": "stream",
     "text": [
      "Test Loss: 1.130 | Test Acc: 60.99%\n"
     ]
    },
    {
     "name": "stderr",
     "output_type": "stream",
     "text": [
      "\r"
     ]
    }
   ],
   "source": [
    "model.load_state_dict(torch.load('../results/LeNet-04.pt'))\n",
    "\n",
    "test_loss, test_acc = evaluate(model, test_iterator, criterion, device)\n",
    "\n",
    "print(f'Test Loss: {test_loss:.3f} | Test Acc: {test_acc*100:.2f}%')"
   ]
  },
  {
   "attachments": {},
   "cell_type": "markdown",
   "metadata": {},
   "source": [
    "### Model_05\n",
    "\n",
    " - Batch Size : 16\n",
    " - Loss function: Cross-Entropy Loss\n",
    " - Optimizer: Stochastic Gradient Descent (SGD)\n",
    " - Activation function: ReLu\n",
    " - Epoch : 32"
   ]
  },
  {
   "cell_type": "code",
   "execution_count": 33,
   "metadata": {},
   "outputs": [
    {
     "name": "stdout",
     "output_type": "stream",
     "text": [
      "The model has 62,006 trainable parameters\n"
     ]
    },
    {
     "data": {
      "text/plain": [
       "LeNet(\n",
       "  (conv1): Conv2d(3, 6, kernel_size=(5, 5), stride=(1, 1))\n",
       "  (pool1): MaxPool2d(kernel_size=2, stride=2, padding=0, dilation=1, ceil_mode=False)\n",
       "  (conv2): Conv2d(6, 16, kernel_size=(5, 5), stride=(1, 1))\n",
       "  (pool2): MaxPool2d(kernel_size=2, stride=2, padding=0, dilation=1, ceil_mode=False)\n",
       "  (fc1): Linear(in_features=400, out_features=120, bias=True)\n",
       "  (fc2): Linear(in_features=120, out_features=84, bias=True)\n",
       "  (fc3): Linear(in_features=84, out_features=10, bias=True)\n",
       ")"
      ]
     },
     "execution_count": 33,
     "metadata": {},
     "output_type": "execute_result"
    }
   ],
   "source": [
    "model = LeNet()\n",
    "print(f'The model has {count_parameters(model):,} trainable parameters')\n",
    "model"
   ]
  },
  {
   "cell_type": "code",
   "execution_count": 34,
   "metadata": {},
   "outputs": [],
   "source": [
    "BATCH_SIZE = 16\n",
    "train_iterator, valid_iterator, test_iterator = create_data_loaders(train_data,\n",
    "                                                                    valid_data,\n",
    "                                                                    test_data,\n",
    "                                                                    BATCH_SIZE)\n",
    "criterion = torch.nn.CrossEntropyLoss()\n",
    "optimizer = torch.optim.SGD(model.parameters(), lr = 0.001, momentum = 0.9)"
   ]
  },
  {
   "cell_type": "code",
   "execution_count": 35,
   "metadata": {},
   "outputs": [
    {
     "name": "stdout",
     "output_type": "stream",
     "text": [
      "Current device is : cuda\n"
     ]
    }
   ],
   "source": [
    "device = torch.device('cuda' if torch.cuda.is_available() else 'cpu')\n",
    "print(f\"Current device is : {device}\")"
   ]
  },
  {
   "cell_type": "code",
   "execution_count": 36,
   "metadata": {},
   "outputs": [
    {
     "data": {
      "application/vnd.jupyter.widget-view+json": {
       "model_id": "26dfaf41406949c8a394e783b012792a",
       "version_major": 2,
       "version_minor": 0
      },
      "text/plain": [
       "  0%|          | 0/32 [00:00<?, ?it/s]"
      ]
     },
     "metadata": {},
     "output_type": "display_data"
    },
    {
     "name": "stderr",
     "output_type": "stream",
     "text": []
    },
    {
     "name": "stdout",
     "output_type": "stream",
     "text": [
      "Epoch: 01 | Epoch Time: 0m 28s\n",
      "\tTrain Loss: 2.209 | Train Acc: 17.26%\n",
      "\t Val. Loss: 1.906 |  Val. Acc: 31.65%\n"
     ]
    },
    {
     "name": "stderr",
     "output_type": "stream",
     "text": []
    },
    {
     "name": "stdout",
     "output_type": "stream",
     "text": [
      "Epoch: 02 | Epoch Time: 0m 28s\n",
      "\tTrain Loss: 1.683 | Train Acc: 38.28%\n",
      "\t Val. Loss: 1.555 |  Val. Acc: 43.43%\n"
     ]
    },
    {
     "name": "stderr",
     "output_type": "stream",
     "text": []
    },
    {
     "name": "stdout",
     "output_type": "stream",
     "text": [
      "Epoch: 03 | Epoch Time: 0m 27s\n",
      "\tTrain Loss: 1.470 | Train Acc: 46.33%\n",
      "\t Val. Loss: 1.446 |  Val. Acc: 47.02%\n"
     ]
    },
    {
     "name": "stderr",
     "output_type": "stream",
     "text": []
    },
    {
     "name": "stdout",
     "output_type": "stream",
     "text": [
      "Epoch: 04 | Epoch Time: 0m 27s\n",
      "\tTrain Loss: 1.358 | Train Acc: 51.04%\n",
      "\t Val. Loss: 1.344 |  Val. Acc: 51.60%\n"
     ]
    },
    {
     "name": "stderr",
     "output_type": "stream",
     "text": []
    },
    {
     "name": "stdout",
     "output_type": "stream",
     "text": [
      "Epoch: 05 | Epoch Time: 0m 27s\n",
      "\tTrain Loss: 1.280 | Train Acc: 54.22%\n",
      "\t Val. Loss: 1.268 |  Val. Acc: 54.67%\n"
     ]
    },
    {
     "name": "stderr",
     "output_type": "stream",
     "text": []
    },
    {
     "name": "stdout",
     "output_type": "stream",
     "text": [
      "Epoch: 06 | Epoch Time: 0m 26s\n",
      "\tTrain Loss: 1.212 | Train Acc: 56.52%\n",
      "\t Val. Loss: 1.271 |  Val. Acc: 54.65%\n"
     ]
    },
    {
     "name": "stderr",
     "output_type": "stream",
     "text": []
    },
    {
     "name": "stdout",
     "output_type": "stream",
     "text": [
      "Epoch: 07 | Epoch Time: 0m 27s\n",
      "\tTrain Loss: 1.153 | Train Acc: 59.07%\n",
      "\t Val. Loss: 1.191 |  Val. Acc: 57.69%\n"
     ]
    },
    {
     "name": "stderr",
     "output_type": "stream",
     "text": []
    },
    {
     "name": "stdout",
     "output_type": "stream",
     "text": [
      "Epoch: 08 | Epoch Time: 0m 27s\n",
      "\tTrain Loss: 1.101 | Train Acc: 60.79%\n",
      "\t Val. Loss: 1.148 |  Val. Acc: 59.05%\n"
     ]
    },
    {
     "name": "stderr",
     "output_type": "stream",
     "text": []
    },
    {
     "name": "stdout",
     "output_type": "stream",
     "text": [
      "Epoch: 09 | Epoch Time: 0m 27s\n",
      "\tTrain Loss: 1.050 | Train Acc: 62.75%\n",
      "\t Val. Loss: 1.137 |  Val. Acc: 59.37%\n"
     ]
    },
    {
     "name": "stderr",
     "output_type": "stream",
     "text": []
    },
    {
     "name": "stdout",
     "output_type": "stream",
     "text": [
      "Epoch: 10 | Epoch Time: 0m 26s\n",
      "\tTrain Loss: 1.006 | Train Acc: 64.36%\n",
      "\t Val. Loss: 1.133 |  Val. Acc: 59.92%\n"
     ]
    },
    {
     "name": "stderr",
     "output_type": "stream",
     "text": []
    },
    {
     "name": "stdout",
     "output_type": "stream",
     "text": [
      "Epoch: 11 | Epoch Time: 0m 26s\n",
      "\tTrain Loss: 0.967 | Train Acc: 66.00%\n",
      "\t Val. Loss: 1.096 |  Val. Acc: 60.98%\n"
     ]
    },
    {
     "name": "stderr",
     "output_type": "stream",
     "text": []
    },
    {
     "name": "stdout",
     "output_type": "stream",
     "text": [
      "Epoch: 12 | Epoch Time: 0m 26s\n",
      "\tTrain Loss: 0.928 | Train Acc: 67.04%\n",
      "\t Val. Loss: 1.076 |  Val. Acc: 62.28%\n"
     ]
    },
    {
     "name": "stderr",
     "output_type": "stream",
     "text": []
    },
    {
     "name": "stdout",
     "output_type": "stream",
     "text": [
      "Epoch: 13 | Epoch Time: 0m 27s\n",
      "\tTrain Loss: 0.895 | Train Acc: 68.30%\n",
      "\t Val. Loss: 1.055 |  Val. Acc: 62.90%\n"
     ]
    },
    {
     "name": "stderr",
     "output_type": "stream",
     "text": []
    },
    {
     "name": "stdout",
     "output_type": "stream",
     "text": [
      "Epoch: 14 | Epoch Time: 0m 26s\n",
      "\tTrain Loss: 0.860 | Train Acc: 69.76%\n",
      "\t Val. Loss: 1.092 |  Val. Acc: 61.86%\n"
     ]
    },
    {
     "name": "stderr",
     "output_type": "stream",
     "text": []
    },
    {
     "name": "stdout",
     "output_type": "stream",
     "text": [
      "Epoch: 15 | Epoch Time: 0m 27s\n",
      "\tTrain Loss: 0.829 | Train Acc: 70.76%\n",
      "\t Val. Loss: 1.069 |  Val. Acc: 62.72%\n"
     ]
    },
    {
     "name": "stderr",
     "output_type": "stream",
     "text": []
    },
    {
     "name": "stdout",
     "output_type": "stream",
     "text": [
      "Epoch: 16 | Epoch Time: 0m 27s\n",
      "\tTrain Loss: 0.797 | Train Acc: 71.92%\n",
      "\t Val. Loss: 1.075 |  Val. Acc: 63.80%\n"
     ]
    },
    {
     "name": "stderr",
     "output_type": "stream",
     "text": []
    },
    {
     "name": "stdout",
     "output_type": "stream",
     "text": [
      "Epoch: 17 | Epoch Time: 0m 26s\n",
      "\tTrain Loss: 0.768 | Train Acc: 72.95%\n",
      "\t Val. Loss: 1.111 |  Val. Acc: 62.30%\n"
     ]
    },
    {
     "name": "stderr",
     "output_type": "stream",
     "text": []
    },
    {
     "name": "stdout",
     "output_type": "stream",
     "text": [
      "Epoch: 18 | Epoch Time: 0m 26s\n",
      "\tTrain Loss: 0.744 | Train Acc: 73.56%\n",
      "\t Val. Loss: 1.099 |  Val. Acc: 62.78%\n"
     ]
    },
    {
     "name": "stderr",
     "output_type": "stream",
     "text": []
    },
    {
     "name": "stdout",
     "output_type": "stream",
     "text": [
      "Epoch: 19 | Epoch Time: 0m 26s\n",
      "\tTrain Loss: 0.717 | Train Acc: 74.75%\n",
      "\t Val. Loss: 1.111 |  Val. Acc: 64.20%\n"
     ]
    },
    {
     "name": "stderr",
     "output_type": "stream",
     "text": []
    },
    {
     "name": "stdout",
     "output_type": "stream",
     "text": [
      "Epoch: 20 | Epoch Time: 0m 26s\n",
      "\tTrain Loss: 0.695 | Train Acc: 75.40%\n",
      "\t Val. Loss: 1.137 |  Val. Acc: 63.30%\n"
     ]
    },
    {
     "name": "stderr",
     "output_type": "stream",
     "text": []
    },
    {
     "name": "stdout",
     "output_type": "stream",
     "text": [
      "Epoch: 21 | Epoch Time: 0m 26s\n",
      "\tTrain Loss: 0.669 | Train Acc: 76.31%\n",
      "\t Val. Loss: 1.137 |  Val. Acc: 63.80%\n"
     ]
    },
    {
     "name": "stderr",
     "output_type": "stream",
     "text": []
    },
    {
     "name": "stdout",
     "output_type": "stream",
     "text": [
      "Epoch: 22 | Epoch Time: 0m 26s\n",
      "\tTrain Loss: 0.643 | Train Acc: 77.16%\n",
      "\t Val. Loss: 1.162 |  Val. Acc: 63.34%\n"
     ]
    },
    {
     "name": "stderr",
     "output_type": "stream",
     "text": []
    },
    {
     "name": "stdout",
     "output_type": "stream",
     "text": [
      "Epoch: 23 | Epoch Time: 0m 26s\n",
      "\tTrain Loss: 0.626 | Train Acc: 78.00%\n",
      "\t Val. Loss: 1.162 |  Val. Acc: 63.10%\n"
     ]
    },
    {
     "name": "stderr",
     "output_type": "stream",
     "text": []
    },
    {
     "name": "stdout",
     "output_type": "stream",
     "text": [
      "Epoch: 24 | Epoch Time: 0m 26s\n",
      "\tTrain Loss: 0.599 | Train Acc: 78.69%\n",
      "\t Val. Loss: 1.208 |  Val. Acc: 63.02%\n"
     ]
    },
    {
     "name": "stderr",
     "output_type": "stream",
     "text": []
    },
    {
     "name": "stdout",
     "output_type": "stream",
     "text": [
      "Epoch: 25 | Epoch Time: 0m 26s\n",
      "\tTrain Loss: 0.577 | Train Acc: 79.50%\n",
      "\t Val. Loss: 1.292 |  Val. Acc: 62.10%\n"
     ]
    },
    {
     "name": "stderr",
     "output_type": "stream",
     "text": []
    },
    {
     "name": "stdout",
     "output_type": "stream",
     "text": [
      "Epoch: 26 | Epoch Time: 0m 26s\n",
      "\tTrain Loss: 0.554 | Train Acc: 80.34%\n",
      "\t Val. Loss: 1.287 |  Val. Acc: 62.44%\n"
     ]
    },
    {
     "name": "stderr",
     "output_type": "stream",
     "text": []
    },
    {
     "name": "stdout",
     "output_type": "stream",
     "text": [
      "Epoch: 27 | Epoch Time: 0m 27s\n",
      "\tTrain Loss: 0.535 | Train Acc: 80.87%\n",
      "\t Val. Loss: 1.329 |  Val. Acc: 63.32%\n"
     ]
    },
    {
     "name": "stderr",
     "output_type": "stream",
     "text": []
    },
    {
     "name": "stdout",
     "output_type": "stream",
     "text": [
      "Epoch: 28 | Epoch Time: 0m 26s\n",
      "\tTrain Loss: 0.518 | Train Acc: 81.53%\n",
      "\t Val. Loss: 1.362 |  Val. Acc: 60.74%\n"
     ]
    },
    {
     "name": "stderr",
     "output_type": "stream",
     "text": []
    },
    {
     "name": "stdout",
     "output_type": "stream",
     "text": [
      "Epoch: 29 | Epoch Time: 0m 26s\n",
      "\tTrain Loss: 0.500 | Train Acc: 82.20%\n",
      "\t Val. Loss: 1.397 |  Val. Acc: 62.10%\n"
     ]
    },
    {
     "name": "stderr",
     "output_type": "stream",
     "text": []
    },
    {
     "name": "stdout",
     "output_type": "stream",
     "text": [
      "Epoch: 30 | Epoch Time: 0m 26s\n",
      "\tTrain Loss: 0.481 | Train Acc: 82.81%\n",
      "\t Val. Loss: 1.436 |  Val. Acc: 61.10%\n"
     ]
    },
    {
     "name": "stderr",
     "output_type": "stream",
     "text": []
    },
    {
     "name": "stdout",
     "output_type": "stream",
     "text": [
      "Epoch: 31 | Epoch Time: 0m 26s\n",
      "\tTrain Loss: 0.465 | Train Acc: 83.28%\n",
      "\t Val. Loss: 1.500 |  Val. Acc: 61.10%\n"
     ]
    },
    {
     "name": "stderr",
     "output_type": "stream",
     "text": []
    },
    {
     "name": "stdout",
     "output_type": "stream",
     "text": [
      "Epoch: 32 | Epoch Time: 0m 26s\n",
      "\tTrain Loss: 0.451 | Train Acc: 84.07%\n",
      "\t Val. Loss: 1.539 |  Val. Acc: 61.02%\n"
     ]
    }
   ],
   "source": [
    "EPOCHS = 32\n",
    "\n",
    "train_losses = []\n",
    "valid_losses = []\n",
    "\n",
    "valid_accs = []\n",
    "train_accs = []\n",
    "\n",
    "best_valid_loss = float('inf')\n",
    "\n",
    "model = model.to(device)\n",
    "criterion = criterion.to(device)\n",
    "\n",
    "for epoch in trange(EPOCHS):\n",
    "\n",
    "  start_time = time.monotonic()\n",
    "\n",
    "  train_loss, train_acc = train_model(model, train_iterator, optimizer, criterion, device)\n",
    "  valid_loss, valid_acc = evaluate(model, valid_iterator, criterion, device)\n",
    "\n",
    "  train_losses.append(train_loss)\n",
    "  valid_losses.append(valid_loss)\n",
    "\n",
    "  train_accs.append(train_acc)\n",
    "  valid_accs.append(valid_acc)\n",
    "\n",
    "  if valid_loss < best_valid_loss:\n",
    "    best_valid_loss = valid_loss\n",
    "    torch.save(model.state_dict(), '../results/LeNet-05.pt')\n",
    "\n",
    "  end_time = time.monotonic()\n",
    "\n",
    "  epoch_mins, epoch_secs = epoch_time(start_time, end_time)\n",
    "\n",
    "  print(f'Epoch: {epoch+1:02} | Epoch Time: {epoch_mins}m {epoch_secs}s')\n",
    "  print(f'\\tTrain Loss: {train_loss:.3f} | Train Acc: {train_acc*100:.2f}%')\n",
    "  print(f'\\t Val. Loss: {valid_loss:.3f} |  Val. Acc: {valid_acc*100:.2f}%')\n",
    "\n",
    "train_stats = df_results(EPOCHS, train_losses, valid_losses, train_accs, valid_accs, \"LeNet-05-train-stats\")"
   ]
  },
  {
   "cell_type": "code",
   "execution_count": 37,
   "metadata": {},
   "outputs": [
    {
     "name": "stderr",
     "output_type": "stream",
     "text": [
      "                                                              "
     ]
    },
    {
     "name": "stdout",
     "output_type": "stream",
     "text": [
      "Test Loss: 1.057 | Test Acc: 62.78%\n"
     ]
    },
    {
     "name": "stderr",
     "output_type": "stream",
     "text": [
      "\r"
     ]
    }
   ],
   "source": [
    "model.load_state_dict(torch.load('../results/LeNet-05.pt'))\n",
    "\n",
    "test_loss, test_acc = evaluate(model, test_iterator, criterion, device)\n",
    "\n",
    "print(f'Test Loss: {test_loss:.3f} | Test Acc: {test_acc*100:.2f}%')"
   ]
  },
  {
   "attachments": {},
   "cell_type": "markdown",
   "metadata": {},
   "source": [
    "### Model_06\n",
    "\n",
    " - Batch Size : 32\n",
    " - Loss function: Cross-Entropy Loss\n",
    " - Optimizer: Stochastic Gradient Descent (SGD)\n",
    " - Activation function: ReLu\n",
    " - Epoch : 32"
   ]
  },
  {
   "cell_type": "code",
   "execution_count": 38,
   "metadata": {},
   "outputs": [
    {
     "name": "stdout",
     "output_type": "stream",
     "text": [
      "The model has 62,006 trainable parameters\n"
     ]
    },
    {
     "data": {
      "text/plain": [
       "LeNet(\n",
       "  (conv1): Conv2d(3, 6, kernel_size=(5, 5), stride=(1, 1))\n",
       "  (pool1): MaxPool2d(kernel_size=2, stride=2, padding=0, dilation=1, ceil_mode=False)\n",
       "  (conv2): Conv2d(6, 16, kernel_size=(5, 5), stride=(1, 1))\n",
       "  (pool2): MaxPool2d(kernel_size=2, stride=2, padding=0, dilation=1, ceil_mode=False)\n",
       "  (fc1): Linear(in_features=400, out_features=120, bias=True)\n",
       "  (fc2): Linear(in_features=120, out_features=84, bias=True)\n",
       "  (fc3): Linear(in_features=84, out_features=10, bias=True)\n",
       ")"
      ]
     },
     "execution_count": 38,
     "metadata": {},
     "output_type": "execute_result"
    }
   ],
   "source": [
    "model = LeNet()\n",
    "print(f'The model has {count_parameters(model):,} trainable parameters')\n",
    "model"
   ]
  },
  {
   "cell_type": "code",
   "execution_count": 39,
   "metadata": {},
   "outputs": [],
   "source": [
    "BATCH_SIZE = 32\n",
    "train_iterator, valid_iterator, test_iterator = create_data_loaders(train_data,\n",
    "                                                                    valid_data,\n",
    "                                                                    test_data,\n",
    "                                                                    BATCH_SIZE)\n",
    "criterion = torch.nn.CrossEntropyLoss()\n",
    "optimizer = torch.optim.SGD(model.parameters(), lr = 0.001, momentum = 0.9)"
   ]
  },
  {
   "cell_type": "code",
   "execution_count": 40,
   "metadata": {},
   "outputs": [
    {
     "name": "stdout",
     "output_type": "stream",
     "text": [
      "Current device is : cuda\n"
     ]
    }
   ],
   "source": [
    "device = torch.device('cuda' if torch.cuda.is_available() else 'cpu')\n",
    "print(f\"Current device is : {device}\")"
   ]
  },
  {
   "cell_type": "code",
   "execution_count": 41,
   "metadata": {},
   "outputs": [
    {
     "data": {
      "application/vnd.jupyter.widget-view+json": {
       "model_id": "1cfffd8043d748f48df23b7acf0a377d",
       "version_major": 2,
       "version_minor": 0
      },
      "text/plain": [
       "  0%|          | 0/32 [00:00<?, ?it/s]"
      ]
     },
     "metadata": {},
     "output_type": "display_data"
    },
    {
     "name": "stderr",
     "output_type": "stream",
     "text": []
    },
    {
     "name": "stdout",
     "output_type": "stream",
     "text": [
      "Epoch: 01 | Epoch Time: 0m 22s\n",
      "\tTrain Loss: 2.252 | Train Acc: 17.42%\n",
      "\t Val. Loss: 2.067 |  Val. Acc: 24.58%\n"
     ]
    },
    {
     "name": "stderr",
     "output_type": "stream",
     "text": []
    },
    {
     "name": "stdout",
     "output_type": "stream",
     "text": [
      "Epoch: 02 | Epoch Time: 0m 21s\n",
      "\tTrain Loss: 1.931 | Train Acc: 30.04%\n",
      "\t Val. Loss: 1.809 |  Val. Acc: 34.89%\n"
     ]
    },
    {
     "name": "stderr",
     "output_type": "stream",
     "text": []
    },
    {
     "name": "stdout",
     "output_type": "stream",
     "text": [
      "Epoch: 03 | Epoch Time: 0m 20s\n",
      "\tTrain Loss: 1.669 | Train Acc: 39.56%\n",
      "\t Val. Loss: 1.575 |  Val. Acc: 41.72%\n"
     ]
    },
    {
     "name": "stderr",
     "output_type": "stream",
     "text": []
    },
    {
     "name": "stdout",
     "output_type": "stream",
     "text": [
      "Epoch: 04 | Epoch Time: 0m 20s\n",
      "\tTrain Loss: 1.516 | Train Acc: 45.02%\n",
      "\t Val. Loss: 1.474 |  Val. Acc: 46.32%\n"
     ]
    },
    {
     "name": "stderr",
     "output_type": "stream",
     "text": []
    },
    {
     "name": "stdout",
     "output_type": "stream",
     "text": [
      "Epoch: 05 | Epoch Time: 0m 21s\n",
      "\tTrain Loss: 1.424 | Train Acc: 48.33%\n",
      "\t Val. Loss: 1.417 |  Val. Acc: 47.75%\n"
     ]
    },
    {
     "name": "stderr",
     "output_type": "stream",
     "text": []
    },
    {
     "name": "stdout",
     "output_type": "stream",
     "text": [
      "Epoch: 06 | Epoch Time: 0m 21s\n",
      "\tTrain Loss: 1.343 | Train Acc: 51.49%\n",
      "\t Val. Loss: 1.373 |  Val. Acc: 50.06%\n"
     ]
    },
    {
     "name": "stderr",
     "output_type": "stream",
     "text": []
    },
    {
     "name": "stdout",
     "output_type": "stream",
     "text": [
      "Epoch: 07 | Epoch Time: 0m 20s\n",
      "\tTrain Loss: 1.277 | Train Acc: 54.33%\n",
      "\t Val. Loss: 1.298 |  Val. Acc: 53.05%\n"
     ]
    },
    {
     "name": "stderr",
     "output_type": "stream",
     "text": []
    },
    {
     "name": "stdout",
     "output_type": "stream",
     "text": [
      "Epoch: 08 | Epoch Time: 0m 20s\n",
      "\tTrain Loss: 1.216 | Train Acc: 56.60%\n",
      "\t Val. Loss: 1.245 |  Val. Acc: 54.66%\n"
     ]
    },
    {
     "name": "stderr",
     "output_type": "stream",
     "text": []
    },
    {
     "name": "stdout",
     "output_type": "stream",
     "text": [
      "Epoch: 09 | Epoch Time: 0m 20s\n",
      "\tTrain Loss: 1.161 | Train Acc: 58.72%\n",
      "\t Val. Loss: 1.227 |  Val. Acc: 55.08%\n"
     ]
    },
    {
     "name": "stderr",
     "output_type": "stream",
     "text": []
    },
    {
     "name": "stdout",
     "output_type": "stream",
     "text": [
      "Epoch: 10 | Epoch Time: 0m 20s\n",
      "\tTrain Loss: 1.122 | Train Acc: 60.56%\n",
      "\t Val. Loss: 1.183 |  Val. Acc: 57.07%\n"
     ]
    },
    {
     "name": "stderr",
     "output_type": "stream",
     "text": []
    },
    {
     "name": "stdout",
     "output_type": "stream",
     "text": [
      "Epoch: 11 | Epoch Time: 0m 21s\n",
      "\tTrain Loss: 1.085 | Train Acc: 61.74%\n",
      "\t Val. Loss: 1.149 |  Val. Acc: 58.58%\n"
     ]
    },
    {
     "name": "stderr",
     "output_type": "stream",
     "text": []
    },
    {
     "name": "stdout",
     "output_type": "stream",
     "text": [
      "Epoch: 12 | Epoch Time: 0m 21s\n",
      "\tTrain Loss: 1.048 | Train Acc: 63.22%\n",
      "\t Val. Loss: 1.153 |  Val. Acc: 58.32%\n"
     ]
    },
    {
     "name": "stderr",
     "output_type": "stream",
     "text": []
    },
    {
     "name": "stdout",
     "output_type": "stream",
     "text": [
      "Epoch: 13 | Epoch Time: 0m 20s\n",
      "\tTrain Loss: 1.019 | Train Acc: 64.22%\n",
      "\t Val. Loss: 1.127 |  Val. Acc: 59.18%\n"
     ]
    },
    {
     "name": "stderr",
     "output_type": "stream",
     "text": []
    },
    {
     "name": "stdout",
     "output_type": "stream",
     "text": [
      "Epoch: 14 | Epoch Time: 0m 21s\n",
      "\tTrain Loss: 0.987 | Train Acc: 65.29%\n",
      "\t Val. Loss: 1.124 |  Val. Acc: 60.13%\n"
     ]
    },
    {
     "name": "stderr",
     "output_type": "stream",
     "text": []
    },
    {
     "name": "stdout",
     "output_type": "stream",
     "text": [
      "Epoch: 15 | Epoch Time: 0m 21s\n",
      "\tTrain Loss: 0.958 | Train Acc: 66.43%\n",
      "\t Val. Loss: 1.116 |  Val. Acc: 61.21%\n"
     ]
    },
    {
     "name": "stderr",
     "output_type": "stream",
     "text": []
    },
    {
     "name": "stdout",
     "output_type": "stream",
     "text": [
      "Epoch: 16 | Epoch Time: 0m 20s\n",
      "\tTrain Loss: 0.933 | Train Acc: 67.30%\n",
      "\t Val. Loss: 1.097 |  Val. Acc: 61.62%\n"
     ]
    },
    {
     "name": "stderr",
     "output_type": "stream",
     "text": []
    },
    {
     "name": "stdout",
     "output_type": "stream",
     "text": [
      "Epoch: 17 | Epoch Time: 0m 20s\n",
      "\tTrain Loss: 0.908 | Train Acc: 68.29%\n",
      "\t Val. Loss: 1.083 |  Val. Acc: 62.30%\n"
     ]
    },
    {
     "name": "stderr",
     "output_type": "stream",
     "text": []
    },
    {
     "name": "stdout",
     "output_type": "stream",
     "text": [
      "Epoch: 18 | Epoch Time: 0m 21s\n",
      "\tTrain Loss: 0.887 | Train Acc: 68.83%\n",
      "\t Val. Loss: 1.078 |  Val. Acc: 62.92%\n"
     ]
    },
    {
     "name": "stderr",
     "output_type": "stream",
     "text": []
    },
    {
     "name": "stdout",
     "output_type": "stream",
     "text": [
      "Epoch: 19 | Epoch Time: 0m 21s\n",
      "\tTrain Loss: 0.864 | Train Acc: 69.56%\n",
      "\t Val. Loss: 1.097 |  Val. Acc: 61.90%\n"
     ]
    },
    {
     "name": "stderr",
     "output_type": "stream",
     "text": []
    },
    {
     "name": "stdout",
     "output_type": "stream",
     "text": [
      "Epoch: 20 | Epoch Time: 0m 21s\n",
      "\tTrain Loss: 0.843 | Train Acc: 70.40%\n",
      "\t Val. Loss: 1.068 |  Val. Acc: 63.59%\n"
     ]
    },
    {
     "name": "stderr",
     "output_type": "stream",
     "text": []
    },
    {
     "name": "stdout",
     "output_type": "stream",
     "text": [
      "Epoch: 21 | Epoch Time: 0m 21s\n",
      "\tTrain Loss: 0.820 | Train Acc: 71.07%\n",
      "\t Val. Loss: 1.092 |  Val. Acc: 62.86%\n"
     ]
    },
    {
     "name": "stderr",
     "output_type": "stream",
     "text": []
    },
    {
     "name": "stdout",
     "output_type": "stream",
     "text": [
      "Epoch: 22 | Epoch Time: 0m 20s\n",
      "\tTrain Loss: 0.800 | Train Acc: 72.01%\n",
      "\t Val. Loss: 1.057 |  Val. Acc: 63.95%\n"
     ]
    },
    {
     "name": "stderr",
     "output_type": "stream",
     "text": []
    },
    {
     "name": "stdout",
     "output_type": "stream",
     "text": [
      "Epoch: 23 | Epoch Time: 0m 21s\n",
      "\tTrain Loss: 0.778 | Train Acc: 72.75%\n",
      "\t Val. Loss: 1.094 |  Val. Acc: 63.44%\n"
     ]
    },
    {
     "name": "stderr",
     "output_type": "stream",
     "text": []
    },
    {
     "name": "stdout",
     "output_type": "stream",
     "text": [
      "Epoch: 24 | Epoch Time: 0m 20s\n",
      "\tTrain Loss: 0.760 | Train Acc: 73.53%\n",
      "\t Val. Loss: 1.077 |  Val. Acc: 63.52%\n"
     ]
    },
    {
     "name": "stderr",
     "output_type": "stream",
     "text": []
    },
    {
     "name": "stdout",
     "output_type": "stream",
     "text": [
      "Epoch: 25 | Epoch Time: 0m 21s\n",
      "\tTrain Loss: 0.741 | Train Acc: 74.09%\n",
      "\t Val. Loss: 1.100 |  Val. Acc: 63.44%\n"
     ]
    },
    {
     "name": "stderr",
     "output_type": "stream",
     "text": []
    },
    {
     "name": "stdout",
     "output_type": "stream",
     "text": [
      "Epoch: 26 | Epoch Time: 0m 20s\n",
      "\tTrain Loss: 0.721 | Train Acc: 74.59%\n",
      "\t Val. Loss: 1.116 |  Val. Acc: 63.18%\n"
     ]
    },
    {
     "name": "stderr",
     "output_type": "stream",
     "text": []
    },
    {
     "name": "stdout",
     "output_type": "stream",
     "text": [
      "Epoch: 27 | Epoch Time: 0m 20s\n",
      "\tTrain Loss: 0.702 | Train Acc: 75.29%\n",
      "\t Val. Loss: 1.124 |  Val. Acc: 62.70%\n"
     ]
    },
    {
     "name": "stderr",
     "output_type": "stream",
     "text": []
    },
    {
     "name": "stdout",
     "output_type": "stream",
     "text": [
      "Epoch: 28 | Epoch Time: 0m 20s\n",
      "\tTrain Loss: 0.684 | Train Acc: 75.72%\n",
      "\t Val. Loss: 1.096 |  Val. Acc: 63.87%\n"
     ]
    },
    {
     "name": "stderr",
     "output_type": "stream",
     "text": []
    },
    {
     "name": "stdout",
     "output_type": "stream",
     "text": [
      "Epoch: 29 | Epoch Time: 0m 20s\n",
      "\tTrain Loss: 0.667 | Train Acc: 76.47%\n",
      "\t Val. Loss: 1.115 |  Val. Acc: 63.54%\n"
     ]
    },
    {
     "name": "stderr",
     "output_type": "stream",
     "text": []
    },
    {
     "name": "stdout",
     "output_type": "stream",
     "text": [
      "Epoch: 30 | Epoch Time: 0m 20s\n",
      "\tTrain Loss: 0.650 | Train Acc: 77.27%\n",
      "\t Val. Loss: 1.131 |  Val. Acc: 63.67%\n"
     ]
    },
    {
     "name": "stderr",
     "output_type": "stream",
     "text": []
    },
    {
     "name": "stdout",
     "output_type": "stream",
     "text": [
      "Epoch: 31 | Epoch Time: 0m 20s\n",
      "\tTrain Loss: 0.628 | Train Acc: 77.95%\n",
      "\t Val. Loss: 1.141 |  Val. Acc: 63.99%\n"
     ]
    },
    {
     "name": "stderr",
     "output_type": "stream",
     "text": []
    },
    {
     "name": "stdout",
     "output_type": "stream",
     "text": [
      "Epoch: 32 | Epoch Time: 0m 20s\n",
      "\tTrain Loss: 0.613 | Train Acc: 78.23%\n",
      "\t Val. Loss: 1.174 |  Val. Acc: 63.34%\n"
     ]
    }
   ],
   "source": [
    "EPOCHS = 32\n",
    "\n",
    "train_losses = []\n",
    "valid_losses = []\n",
    "\n",
    "valid_accs = []\n",
    "train_accs = []\n",
    "\n",
    "best_valid_loss = float('inf')\n",
    "\n",
    "model = model.to(device)\n",
    "criterion = criterion.to(device)\n",
    "\n",
    "for epoch in trange(EPOCHS):\n",
    "\n",
    "  start_time = time.monotonic()\n",
    "\n",
    "  train_loss, train_acc = train_model(model, train_iterator, optimizer, criterion, device)\n",
    "  valid_loss, valid_acc = evaluate(model, valid_iterator, criterion, device)\n",
    "\n",
    "  train_losses.append(train_loss)\n",
    "  valid_losses.append(valid_loss)\n",
    "\n",
    "  train_accs.append(train_acc)\n",
    "  valid_accs.append(valid_acc)\n",
    "\n",
    "  if valid_loss < best_valid_loss:\n",
    "    best_valid_loss = valid_loss\n",
    "    torch.save(model.state_dict(), '../results/LeNet-06.pt')\n",
    "\n",
    "  end_time = time.monotonic()\n",
    "\n",
    "  epoch_mins, epoch_secs = epoch_time(start_time, end_time)\n",
    "\n",
    "  print(f'Epoch: {epoch+1:02} | Epoch Time: {epoch_mins}m {epoch_secs}s')\n",
    "  print(f'\\tTrain Loss: {train_loss:.3f} | Train Acc: {train_acc*100:.2f}%')\n",
    "  print(f'\\t Val. Loss: {valid_loss:.3f} |  Val. Acc: {valid_acc*100:.2f}%')\n",
    "\n",
    "train_stats = df_results(EPOCHS, train_losses, valid_losses, train_accs, valid_accs, \"LeNet-06-train-stats\")"
   ]
  },
  {
   "cell_type": "code",
   "execution_count": 42,
   "metadata": {},
   "outputs": [
    {
     "name": "stderr",
     "output_type": "stream",
     "text": [
      "                                                             "
     ]
    },
    {
     "name": "stdout",
     "output_type": "stream",
     "text": [
      "Test Loss: 1.036 | Test Acc: 65.16%\n"
     ]
    },
    {
     "name": "stderr",
     "output_type": "stream",
     "text": [
      "\r"
     ]
    }
   ],
   "source": [
    "model.load_state_dict(torch.load('../results/LeNet-06.pt'))\n",
    "\n",
    "test_loss, test_acc = evaluate(model, test_iterator, criterion, device)\n",
    "\n",
    "print(f'Test Loss: {test_loss:.3f} | Test Acc: {test_acc*100:.2f}%')"
   ]
  },
  {
   "attachments": {},
   "cell_type": "markdown",
   "metadata": {},
   "source": [
    "## Comparing Learning Rates"
   ]
  },
  {
   "attachments": {},
   "cell_type": "markdown",
   "metadata": {},
   "source": [
    "### Model_07\n",
    "\n",
    " - Batch Size : 64\n",
    " - Loss function: Cross-Entropy Loss\n",
    " - Optimizer: Stochastic Gradient Descent (SGD)\n",
    " - Activation function: ReLu\n",
    " - Epoch : 32\n",
    " - Learning Rate : 0.1"
   ]
  },
  {
   "cell_type": "code",
   "execution_count": 43,
   "metadata": {},
   "outputs": [
    {
     "name": "stdout",
     "output_type": "stream",
     "text": [
      "The model has 62,006 trainable parameters\n"
     ]
    },
    {
     "data": {
      "text/plain": [
       "LeNet(\n",
       "  (conv1): Conv2d(3, 6, kernel_size=(5, 5), stride=(1, 1))\n",
       "  (pool1): MaxPool2d(kernel_size=2, stride=2, padding=0, dilation=1, ceil_mode=False)\n",
       "  (conv2): Conv2d(6, 16, kernel_size=(5, 5), stride=(1, 1))\n",
       "  (pool2): MaxPool2d(kernel_size=2, stride=2, padding=0, dilation=1, ceil_mode=False)\n",
       "  (fc1): Linear(in_features=400, out_features=120, bias=True)\n",
       "  (fc2): Linear(in_features=120, out_features=84, bias=True)\n",
       "  (fc3): Linear(in_features=84, out_features=10, bias=True)\n",
       ")"
      ]
     },
     "execution_count": 43,
     "metadata": {},
     "output_type": "execute_result"
    }
   ],
   "source": [
    "model = LeNet()\n",
    "print(f'The model has {count_parameters(model):,} trainable parameters')\n",
    "model"
   ]
  },
  {
   "cell_type": "code",
   "execution_count": 44,
   "metadata": {},
   "outputs": [],
   "source": [
    "BATCH_SIZE = 64\n",
    "train_iterator, valid_iterator, test_iterator = create_data_loaders(train_data,\n",
    "                                                                    valid_data,\n",
    "                                                                    test_data,\n",
    "                                                                    BATCH_SIZE)\n",
    "criterion = torch.nn.CrossEntropyLoss()\n",
    "optimizer = torch.optim.SGD(model.parameters(), lr = 0.1, momentum = 0.9)"
   ]
  },
  {
   "cell_type": "code",
   "execution_count": 45,
   "metadata": {},
   "outputs": [
    {
     "name": "stdout",
     "output_type": "stream",
     "text": [
      "Current device is : cuda\n"
     ]
    }
   ],
   "source": [
    "device = torch.device('cuda' if torch.cuda.is_available() else 'cpu')\n",
    "print(f\"Current device is : {device}\")"
   ]
  },
  {
   "cell_type": "code",
   "execution_count": 46,
   "metadata": {},
   "outputs": [
    {
     "data": {
      "application/vnd.jupyter.widget-view+json": {
       "model_id": "e70ab79814734005a1832fd6ac647c22",
       "version_major": 2,
       "version_minor": 0
      },
      "text/plain": [
       "  0%|          | 0/32 [00:00<?, ?it/s]"
      ]
     },
     "metadata": {},
     "output_type": "display_data"
    },
    {
     "name": "stderr",
     "output_type": "stream",
     "text": []
    },
    {
     "name": "stdout",
     "output_type": "stream",
     "text": [
      "Epoch: 01 | Epoch Time: 0m 20s\n",
      "\tTrain Loss: 1.861 | Train Acc: 31.10%\n",
      "\t Val. Loss: 1.989 |  Val. Acc: 27.37%\n"
     ]
    },
    {
     "name": "stderr",
     "output_type": "stream",
     "text": []
    },
    {
     "name": "stdout",
     "output_type": "stream",
     "text": [
      "Epoch: 02 | Epoch Time: 0m 19s\n",
      "\tTrain Loss: 1.780 | Train Acc: 34.66%\n",
      "\t Val. Loss: 1.733 |  Val. Acc: 38.21%\n"
     ]
    },
    {
     "name": "stderr",
     "output_type": "stream",
     "text": []
    },
    {
     "name": "stdout",
     "output_type": "stream",
     "text": [
      "Epoch: 03 | Epoch Time: 0m 19s\n",
      "\tTrain Loss: 1.794 | Train Acc: 34.61%\n",
      "\t Val. Loss: 1.766 |  Val. Acc: 37.32%\n"
     ]
    },
    {
     "name": "stderr",
     "output_type": "stream",
     "text": []
    },
    {
     "name": "stdout",
     "output_type": "stream",
     "text": [
      "Epoch: 04 | Epoch Time: 0m 19s\n",
      "\tTrain Loss: 1.780 | Train Acc: 35.89%\n",
      "\t Val. Loss: 1.813 |  Val. Acc: 35.52%\n"
     ]
    },
    {
     "name": "stderr",
     "output_type": "stream",
     "text": []
    },
    {
     "name": "stdout",
     "output_type": "stream",
     "text": [
      "Epoch: 05 | Epoch Time: 0m 19s\n",
      "\tTrain Loss: 1.813 | Train Acc: 33.78%\n",
      "\t Val. Loss: 1.820 |  Val. Acc: 32.24%\n"
     ]
    },
    {
     "name": "stderr",
     "output_type": "stream",
     "text": []
    },
    {
     "name": "stdout",
     "output_type": "stream",
     "text": [
      "Epoch: 06 | Epoch Time: 0m 19s\n",
      "\tTrain Loss: 1.799 | Train Acc: 33.87%\n",
      "\t Val. Loss: 1.851 |  Val. Acc: 34.10%\n"
     ]
    },
    {
     "name": "stderr",
     "output_type": "stream",
     "text": []
    },
    {
     "name": "stdout",
     "output_type": "stream",
     "text": [
      "Epoch: 07 | Epoch Time: 0m 18s\n",
      "\tTrain Loss: 1.834 | Train Acc: 33.12%\n",
      "\t Val. Loss: 1.910 |  Val. Acc: 29.31%\n"
     ]
    },
    {
     "name": "stderr",
     "output_type": "stream",
     "text": []
    },
    {
     "name": "stdout",
     "output_type": "stream",
     "text": [
      "Epoch: 08 | Epoch Time: 0m 18s\n",
      "\tTrain Loss: 1.870 | Train Acc: 31.33%\n",
      "\t Val. Loss: 1.891 |  Val. Acc: 29.61%\n"
     ]
    },
    {
     "name": "stderr",
     "output_type": "stream",
     "text": []
    },
    {
     "name": "stdout",
     "output_type": "stream",
     "text": [
      "Epoch: 09 | Epoch Time: 0m 18s\n",
      "\tTrain Loss: 1.893 | Train Acc: 29.82%\n",
      "\t Val. Loss: 1.929 |  Val. Acc: 28.14%\n"
     ]
    },
    {
     "name": "stderr",
     "output_type": "stream",
     "text": []
    },
    {
     "name": "stdout",
     "output_type": "stream",
     "text": [
      "Epoch: 10 | Epoch Time: 0m 18s\n",
      "\tTrain Loss: 1.909 | Train Acc: 29.37%\n",
      "\t Val. Loss: 2.033 |  Val. Acc: 25.73%\n"
     ]
    },
    {
     "name": "stderr",
     "output_type": "stream",
     "text": []
    },
    {
     "name": "stdout",
     "output_type": "stream",
     "text": [
      "Epoch: 11 | Epoch Time: 0m 19s\n",
      "\tTrain Loss: 1.893 | Train Acc: 29.66%\n",
      "\t Val. Loss: 1.878 |  Val. Acc: 29.41%\n"
     ]
    },
    {
     "name": "stderr",
     "output_type": "stream",
     "text": []
    },
    {
     "name": "stdout",
     "output_type": "stream",
     "text": [
      "Epoch: 12 | Epoch Time: 0m 19s\n",
      "\tTrain Loss: 1.917 | Train Acc: 28.21%\n",
      "\t Val. Loss: 2.090 |  Val. Acc: 21.28%\n"
     ]
    },
    {
     "name": "stderr",
     "output_type": "stream",
     "text": []
    },
    {
     "name": "stdout",
     "output_type": "stream",
     "text": [
      "Epoch: 13 | Epoch Time: 0m 18s\n",
      "\tTrain Loss: 1.947 | Train Acc: 26.64%\n",
      "\t Val. Loss: 1.962 |  Val. Acc: 26.17%\n"
     ]
    },
    {
     "name": "stderr",
     "output_type": "stream",
     "text": []
    },
    {
     "name": "stdout",
     "output_type": "stream",
     "text": [
      "Epoch: 14 | Epoch Time: 0m 18s\n",
      "\tTrain Loss: 1.955 | Train Acc: 26.35%\n",
      "\t Val. Loss: 1.935 |  Val. Acc: 21.91%\n"
     ]
    },
    {
     "name": "stderr",
     "output_type": "stream",
     "text": []
    },
    {
     "name": "stdout",
     "output_type": "stream",
     "text": [
      "Epoch: 15 | Epoch Time: 0m 18s\n",
      "\tTrain Loss: 1.985 | Train Acc: 24.14%\n",
      "\t Val. Loss: 1.981 |  Val. Acc: 24.64%\n"
     ]
    },
    {
     "name": "stderr",
     "output_type": "stream",
     "text": []
    },
    {
     "name": "stdout",
     "output_type": "stream",
     "text": [
      "Epoch: 16 | Epoch Time: 0m 19s\n",
      "\tTrain Loss: 1.991 | Train Acc: 23.69%\n",
      "\t Val. Loss: 2.075 |  Val. Acc: 19.05%\n"
     ]
    },
    {
     "name": "stderr",
     "output_type": "stream",
     "text": []
    },
    {
     "name": "stdout",
     "output_type": "stream",
     "text": [
      "Epoch: 17 | Epoch Time: 0m 18s\n",
      "\tTrain Loss: 1.988 | Train Acc: 23.72%\n",
      "\t Val. Loss: 1.998 |  Val. Acc: 24.86%\n"
     ]
    },
    {
     "name": "stderr",
     "output_type": "stream",
     "text": []
    },
    {
     "name": "stdout",
     "output_type": "stream",
     "text": [
      "Epoch: 18 | Epoch Time: 0m 18s\n",
      "\tTrain Loss: 1.991 | Train Acc: 24.23%\n",
      "\t Val. Loss: 2.043 |  Val. Acc: 22.21%\n"
     ]
    },
    {
     "name": "stderr",
     "output_type": "stream",
     "text": []
    },
    {
     "name": "stdout",
     "output_type": "stream",
     "text": [
      "Epoch: 19 | Epoch Time: 0m 18s\n",
      "\tTrain Loss: 1.996 | Train Acc: 23.08%\n",
      "\t Val. Loss: 1.978 |  Val. Acc: 21.64%\n"
     ]
    },
    {
     "name": "stderr",
     "output_type": "stream",
     "text": []
    },
    {
     "name": "stdout",
     "output_type": "stream",
     "text": [
      "Epoch: 20 | Epoch Time: 0m 19s\n",
      "\tTrain Loss: 2.007 | Train Acc: 22.39%\n",
      "\t Val. Loss: 1.992 |  Val. Acc: 22.80%\n"
     ]
    },
    {
     "name": "stderr",
     "output_type": "stream",
     "text": []
    },
    {
     "name": "stdout",
     "output_type": "stream",
     "text": [
      "Epoch: 21 | Epoch Time: 0m 19s\n",
      "\tTrain Loss: 1.993 | Train Acc: 22.84%\n",
      "\t Val. Loss: 1.980 |  Val. Acc: 23.10%\n"
     ]
    },
    {
     "name": "stderr",
     "output_type": "stream",
     "text": []
    },
    {
     "name": "stdout",
     "output_type": "stream",
     "text": [
      "Epoch: 22 | Epoch Time: 0m 19s\n",
      "\tTrain Loss: 1.989 | Train Acc: 23.83%\n",
      "\t Val. Loss: 1.972 |  Val. Acc: 24.92%\n"
     ]
    },
    {
     "name": "stderr",
     "output_type": "stream",
     "text": []
    },
    {
     "name": "stdout",
     "output_type": "stream",
     "text": [
      "Epoch: 23 | Epoch Time: 0m 19s\n",
      "\tTrain Loss: 1.986 | Train Acc: 23.37%\n",
      "\t Val. Loss: 2.067 |  Val. Acc: 22.27%\n"
     ]
    },
    {
     "name": "stderr",
     "output_type": "stream",
     "text": []
    },
    {
     "name": "stdout",
     "output_type": "stream",
     "text": [
      "Epoch: 24 | Epoch Time: 0m 18s\n",
      "\tTrain Loss: 2.008 | Train Acc: 22.77%\n",
      "\t Val. Loss: 2.004 |  Val. Acc: 20.87%\n"
     ]
    },
    {
     "name": "stderr",
     "output_type": "stream",
     "text": []
    },
    {
     "name": "stdout",
     "output_type": "stream",
     "text": [
      "Epoch: 25 | Epoch Time: 0m 18s\n",
      "\tTrain Loss: 2.054 | Train Acc: 21.30%\n",
      "\t Val. Loss: 2.027 |  Val. Acc: 20.79%\n"
     ]
    },
    {
     "name": "stderr",
     "output_type": "stream",
     "text": []
    },
    {
     "name": "stdout",
     "output_type": "stream",
     "text": [
      "Epoch: 26 | Epoch Time: 0m 19s\n",
      "\tTrain Loss: 2.010 | Train Acc: 22.51%\n",
      "\t Val. Loss: 2.045 |  Val. Acc: 19.30%\n"
     ]
    },
    {
     "name": "stderr",
     "output_type": "stream",
     "text": []
    },
    {
     "name": "stdout",
     "output_type": "stream",
     "text": [
      "Epoch: 27 | Epoch Time: 0m 20s\n",
      "\tTrain Loss: 2.003 | Train Acc: 22.80%\n",
      "\t Val. Loss: 2.107 |  Val. Acc: 19.58%\n"
     ]
    },
    {
     "name": "stderr",
     "output_type": "stream",
     "text": []
    },
    {
     "name": "stdout",
     "output_type": "stream",
     "text": [
      "Epoch: 28 | Epoch Time: 0m 18s\n",
      "\tTrain Loss: 2.017 | Train Acc: 21.23%\n",
      "\t Val. Loss: 2.007 |  Val. Acc: 20.61%\n"
     ]
    },
    {
     "name": "stderr",
     "output_type": "stream",
     "text": []
    },
    {
     "name": "stdout",
     "output_type": "stream",
     "text": [
      "Epoch: 29 | Epoch Time: 0m 19s\n",
      "\tTrain Loss: 2.041 | Train Acc: 20.93%\n",
      "\t Val. Loss: 2.050 |  Val. Acc: 20.73%\n"
     ]
    },
    {
     "name": "stderr",
     "output_type": "stream",
     "text": []
    },
    {
     "name": "stdout",
     "output_type": "stream",
     "text": [
      "Epoch: 30 | Epoch Time: 0m 19s\n",
      "\tTrain Loss: 2.066 | Train Acc: 20.35%\n",
      "\t Val. Loss: 2.048 |  Val. Acc: 20.09%\n"
     ]
    },
    {
     "name": "stderr",
     "output_type": "stream",
     "text": []
    },
    {
     "name": "stdout",
     "output_type": "stream",
     "text": [
      "Epoch: 31 | Epoch Time: 0m 18s\n",
      "\tTrain Loss: 2.153 | Train Acc: 16.33%\n",
      "\t Val. Loss: 2.228 |  Val. Acc: 13.57%\n"
     ]
    },
    {
     "name": "stderr",
     "output_type": "stream",
     "text": []
    },
    {
     "name": "stdout",
     "output_type": "stream",
     "text": [
      "Epoch: 32 | Epoch Time: 0m 19s\n",
      "\tTrain Loss: 2.226 | Train Acc: 13.31%\n",
      "\t Val. Loss: 2.134 |  Val. Acc: 15.98%\n"
     ]
    }
   ],
   "source": [
    "EPOCHS = 32\n",
    "\n",
    "train_losses = []\n",
    "valid_losses = []\n",
    "\n",
    "valid_accs = []\n",
    "train_accs = []\n",
    "\n",
    "best_valid_loss = float('inf')\n",
    "\n",
    "model = model.to(device)\n",
    "criterion = criterion.to(device)\n",
    "\n",
    "for epoch in trange(EPOCHS):\n",
    "\n",
    "  start_time = time.monotonic()\n",
    "\n",
    "  train_loss, train_acc = train_model(model, train_iterator, optimizer, criterion, device)\n",
    "  valid_loss, valid_acc = evaluate(model, valid_iterator, criterion, device)\n",
    "\n",
    "  train_losses.append(train_loss)\n",
    "  valid_losses.append(valid_loss)\n",
    "\n",
    "  train_accs.append(train_acc)\n",
    "  valid_accs.append(valid_acc)\n",
    "\n",
    "  if valid_loss < best_valid_loss:\n",
    "    best_valid_loss = valid_loss\n",
    "    torch.save(model.state_dict(), '../results/LeNet-07.pt')\n",
    "\n",
    "  end_time = time.monotonic()\n",
    "\n",
    "  epoch_mins, epoch_secs = epoch_time(start_time, end_time)\n",
    "\n",
    "  print(f'Epoch: {epoch+1:02} | Epoch Time: {epoch_mins}m {epoch_secs}s')\n",
    "  print(f'\\tTrain Loss: {train_loss:.3f} | Train Acc: {train_acc*100:.2f}%')\n",
    "  print(f'\\t Val. Loss: {valid_loss:.3f} |  Val. Acc: {valid_acc*100:.2f}%')\n",
    "\n",
    "train_stats = df_results(EPOCHS, train_losses, valid_losses, train_accs, valid_accs, \"LeNet-07-train-stats\")\n"
   ]
  },
  {
   "cell_type": "code",
   "execution_count": 47,
   "metadata": {},
   "outputs": [
    {
     "name": "stderr",
     "output_type": "stream",
     "text": [
      "                                                             "
     ]
    },
    {
     "name": "stdout",
     "output_type": "stream",
     "text": [
      "Test Loss: 1.735 | Test Acc: 38.65%\n"
     ]
    },
    {
     "name": "stderr",
     "output_type": "stream",
     "text": [
      "\r"
     ]
    }
   ],
   "source": [
    "model.load_state_dict(torch.load('../results/LeNet-07.pt'))\n",
    "\n",
    "test_loss, test_acc = evaluate(model, test_iterator, criterion, device)\n",
    "\n",
    "print(f'Test Loss: {test_loss:.3f} | Test Acc: {test_acc*100:.2f}%')"
   ]
  },
  {
   "attachments": {},
   "cell_type": "markdown",
   "metadata": {},
   "source": [
    "### Model_08\n",
    "\n",
    " - Batch Size : 64\n",
    " - Loss function: Cross-Entropy Loss\n",
    " - Optimizer: Stochastic Gradient Descent (SGD)\n",
    " - Activation function: ReLu\n",
    " - Epoch : 32\n",
    " - Learning Rate : 0.01"
   ]
  },
  {
   "cell_type": "code",
   "execution_count": 48,
   "metadata": {},
   "outputs": [
    {
     "name": "stdout",
     "output_type": "stream",
     "text": [
      "The model has 62,006 trainable parameters\n"
     ]
    },
    {
     "data": {
      "text/plain": [
       "LeNet(\n",
       "  (conv1): Conv2d(3, 6, kernel_size=(5, 5), stride=(1, 1))\n",
       "  (pool1): MaxPool2d(kernel_size=2, stride=2, padding=0, dilation=1, ceil_mode=False)\n",
       "  (conv2): Conv2d(6, 16, kernel_size=(5, 5), stride=(1, 1))\n",
       "  (pool2): MaxPool2d(kernel_size=2, stride=2, padding=0, dilation=1, ceil_mode=False)\n",
       "  (fc1): Linear(in_features=400, out_features=120, bias=True)\n",
       "  (fc2): Linear(in_features=120, out_features=84, bias=True)\n",
       "  (fc3): Linear(in_features=84, out_features=10, bias=True)\n",
       ")"
      ]
     },
     "execution_count": 48,
     "metadata": {},
     "output_type": "execute_result"
    }
   ],
   "source": [
    "model = LeNet()\n",
    "print(f'The model has {count_parameters(model):,} trainable parameters')\n",
    "model"
   ]
  },
  {
   "cell_type": "code",
   "execution_count": 49,
   "metadata": {},
   "outputs": [],
   "source": [
    "BATCH_SIZE = 64\n",
    "train_iterator, valid_iterator, test_iterator = create_data_loaders(train_data,\n",
    "                                                                    valid_data,\n",
    "                                                                    test_data,\n",
    "                                                                    BATCH_SIZE)\n",
    "criterion = torch.nn.CrossEntropyLoss()\n",
    "optimizer = torch.optim.SGD(model.parameters(), lr = 0.01, momentum = 0.9)"
   ]
  },
  {
   "cell_type": "code",
   "execution_count": 50,
   "metadata": {},
   "outputs": [
    {
     "name": "stdout",
     "output_type": "stream",
     "text": [
      "Current device is : cuda\n"
     ]
    }
   ],
   "source": [
    "device = torch.device('cuda' if torch.cuda.is_available() else 'cpu')\n",
    "print(f\"Current device is : {device}\")"
   ]
  },
  {
   "cell_type": "code",
   "execution_count": 51,
   "metadata": {},
   "outputs": [
    {
     "data": {
      "application/vnd.jupyter.widget-view+json": {
       "model_id": "d204dc9053824a1a8011fe2ae795a408",
       "version_major": 2,
       "version_minor": 0
      },
      "text/plain": [
       "  0%|          | 0/32 [00:00<?, ?it/s]"
      ]
     },
     "metadata": {},
     "output_type": "display_data"
    },
    {
     "name": "stderr",
     "output_type": "stream",
     "text": []
    },
    {
     "name": "stdout",
     "output_type": "stream",
     "text": [
      "Epoch: 01 | Epoch Time: 0m 18s\n",
      "\tTrain Loss: 1.871 | Train Acc: 30.56%\n",
      "\t Val. Loss: 1.537 |  Val. Acc: 43.97%\n"
     ]
    },
    {
     "name": "stderr",
     "output_type": "stream",
     "text": []
    },
    {
     "name": "stdout",
     "output_type": "stream",
     "text": [
      "Epoch: 02 | Epoch Time: 0m 17s\n",
      "\tTrain Loss: 1.449 | Train Acc: 47.17%\n",
      "\t Val. Loss: 1.508 |  Val. Acc: 46.22%\n"
     ]
    },
    {
     "name": "stderr",
     "output_type": "stream",
     "text": []
    },
    {
     "name": "stdout",
     "output_type": "stream",
     "text": [
      "Epoch: 03 | Epoch Time: 0m 17s\n",
      "\tTrain Loss: 1.284 | Train Acc: 53.70%\n",
      "\t Val. Loss: 1.251 |  Val. Acc: 54.83%\n"
     ]
    },
    {
     "name": "stderr",
     "output_type": "stream",
     "text": []
    },
    {
     "name": "stdout",
     "output_type": "stream",
     "text": [
      "Epoch: 04 | Epoch Time: 0m 17s\n",
      "\tTrain Loss: 1.182 | Train Acc: 57.82%\n",
      "\t Val. Loss: 1.222 |  Val. Acc: 56.61%\n"
     ]
    },
    {
     "name": "stderr",
     "output_type": "stream",
     "text": []
    },
    {
     "name": "stdout",
     "output_type": "stream",
     "text": [
      "Epoch: 05 | Epoch Time: 0m 17s\n",
      "\tTrain Loss: 1.094 | Train Acc: 61.38%\n",
      "\t Val. Loss: 1.271 |  Val. Acc: 55.30%\n"
     ]
    },
    {
     "name": "stderr",
     "output_type": "stream",
     "text": []
    },
    {
     "name": "stdout",
     "output_type": "stream",
     "text": [
      "Epoch: 06 | Epoch Time: 0m 17s\n",
      "\tTrain Loss: 1.021 | Train Acc: 63.94%\n",
      "\t Val. Loss: 1.131 |  Val. Acc: 60.70%\n"
     ]
    },
    {
     "name": "stderr",
     "output_type": "stream",
     "text": []
    },
    {
     "name": "stdout",
     "output_type": "stream",
     "text": [
      "Epoch: 07 | Epoch Time: 0m 17s\n",
      "\tTrain Loss: 0.961 | Train Acc: 65.93%\n",
      "\t Val. Loss: 1.186 |  Val. Acc: 58.74%\n"
     ]
    },
    {
     "name": "stderr",
     "output_type": "stream",
     "text": []
    },
    {
     "name": "stdout",
     "output_type": "stream",
     "text": [
      "Epoch: 08 | Epoch Time: 0m 17s\n",
      "\tTrain Loss: 0.928 | Train Acc: 67.19%\n",
      "\t Val. Loss: 1.201 |  Val. Acc: 59.30%\n"
     ]
    },
    {
     "name": "stderr",
     "output_type": "stream",
     "text": []
    },
    {
     "name": "stdout",
     "output_type": "stream",
     "text": [
      "Epoch: 09 | Epoch Time: 0m 17s\n",
      "\tTrain Loss: 0.879 | Train Acc: 69.00%\n",
      "\t Val. Loss: 1.128 |  Val. Acc: 62.38%\n"
     ]
    },
    {
     "name": "stderr",
     "output_type": "stream",
     "text": []
    },
    {
     "name": "stdout",
     "output_type": "stream",
     "text": [
      "Epoch: 10 | Epoch Time: 0m 17s\n",
      "\tTrain Loss: 0.851 | Train Acc: 69.66%\n",
      "\t Val. Loss: 1.153 |  Val. Acc: 61.27%\n"
     ]
    },
    {
     "name": "stderr",
     "output_type": "stream",
     "text": []
    },
    {
     "name": "stdout",
     "output_type": "stream",
     "text": [
      "Epoch: 11 | Epoch Time: 0m 17s\n",
      "\tTrain Loss: 0.807 | Train Acc: 71.34%\n",
      "\t Val. Loss: 1.109 |  Val. Acc: 61.67%\n"
     ]
    },
    {
     "name": "stderr",
     "output_type": "stream",
     "text": []
    },
    {
     "name": "stdout",
     "output_type": "stream",
     "text": [
      "Epoch: 12 | Epoch Time: 0m 17s\n",
      "\tTrain Loss: 0.770 | Train Acc: 72.44%\n",
      "\t Val. Loss: 1.128 |  Val. Acc: 61.83%\n"
     ]
    },
    {
     "name": "stderr",
     "output_type": "stream",
     "text": []
    },
    {
     "name": "stdout",
     "output_type": "stream",
     "text": [
      "Epoch: 13 | Epoch Time: 0m 17s\n",
      "\tTrain Loss: 0.744 | Train Acc: 73.52%\n",
      "\t Val. Loss: 1.189 |  Val. Acc: 60.70%\n"
     ]
    },
    {
     "name": "stderr",
     "output_type": "stream",
     "text": []
    },
    {
     "name": "stdout",
     "output_type": "stream",
     "text": [
      "Epoch: 14 | Epoch Time: 0m 17s\n",
      "\tTrain Loss: 0.717 | Train Acc: 74.48%\n",
      "\t Val. Loss: 1.195 |  Val. Acc: 61.37%\n"
     ]
    },
    {
     "name": "stderr",
     "output_type": "stream",
     "text": []
    },
    {
     "name": "stdout",
     "output_type": "stream",
     "text": [
      "Epoch: 15 | Epoch Time: 0m 17s\n",
      "\tTrain Loss: 0.689 | Train Acc: 75.52%\n",
      "\t Val. Loss: 1.218 |  Val. Acc: 60.78%\n"
     ]
    },
    {
     "name": "stderr",
     "output_type": "stream",
     "text": []
    },
    {
     "name": "stdout",
     "output_type": "stream",
     "text": [
      "Epoch: 16 | Epoch Time: 0m 17s\n",
      "\tTrain Loss: 0.670 | Train Acc: 76.19%\n",
      "\t Val. Loss: 1.263 |  Val. Acc: 60.84%\n"
     ]
    },
    {
     "name": "stderr",
     "output_type": "stream",
     "text": []
    },
    {
     "name": "stdout",
     "output_type": "stream",
     "text": [
      "Epoch: 17 | Epoch Time: 0m 17s\n",
      "\tTrain Loss: 0.645 | Train Acc: 76.93%\n",
      "\t Val. Loss: 1.292 |  Val. Acc: 60.50%\n"
     ]
    },
    {
     "name": "stderr",
     "output_type": "stream",
     "text": []
    },
    {
     "name": "stdout",
     "output_type": "stream",
     "text": [
      "Epoch: 18 | Epoch Time: 0m 17s\n",
      "\tTrain Loss: 0.617 | Train Acc: 77.95%\n",
      "\t Val. Loss: 1.318 |  Val. Acc: 60.68%\n"
     ]
    },
    {
     "name": "stderr",
     "output_type": "stream",
     "text": []
    },
    {
     "name": "stdout",
     "output_type": "stream",
     "text": [
      "Epoch: 19 | Epoch Time: 0m 17s\n",
      "\tTrain Loss: 0.601 | Train Acc: 78.49%\n",
      "\t Val. Loss: 1.368 |  Val. Acc: 60.98%\n"
     ]
    },
    {
     "name": "stderr",
     "output_type": "stream",
     "text": []
    },
    {
     "name": "stdout",
     "output_type": "stream",
     "text": [
      "Epoch: 20 | Epoch Time: 0m 17s\n",
      "\tTrain Loss: 0.585 | Train Acc: 79.05%\n",
      "\t Val. Loss: 1.393 |  Val. Acc: 60.78%\n"
     ]
    },
    {
     "name": "stderr",
     "output_type": "stream",
     "text": []
    },
    {
     "name": "stdout",
     "output_type": "stream",
     "text": [
      "Epoch: 21 | Epoch Time: 0m 17s\n",
      "\tTrain Loss: 0.570 | Train Acc: 79.74%\n",
      "\t Val. Loss: 1.477 |  Val. Acc: 59.55%\n"
     ]
    },
    {
     "name": "stderr",
     "output_type": "stream",
     "text": []
    },
    {
     "name": "stdout",
     "output_type": "stream",
     "text": [
      "Epoch: 22 | Epoch Time: 0m 17s\n",
      "\tTrain Loss: 0.549 | Train Acc: 80.08%\n",
      "\t Val. Loss: 1.536 |  Val. Acc: 59.04%\n"
     ]
    },
    {
     "name": "stderr",
     "output_type": "stream",
     "text": []
    },
    {
     "name": "stdout",
     "output_type": "stream",
     "text": [
      "Epoch: 23 | Epoch Time: 0m 17s\n",
      "\tTrain Loss: 0.535 | Train Acc: 80.63%\n",
      "\t Val. Loss: 1.550 |  Val. Acc: 59.10%\n"
     ]
    },
    {
     "name": "stderr",
     "output_type": "stream",
     "text": []
    },
    {
     "name": "stdout",
     "output_type": "stream",
     "text": [
      "Epoch: 24 | Epoch Time: 0m 18s\n",
      "\tTrain Loss: 0.531 | Train Acc: 81.03%\n",
      "\t Val. Loss: 1.548 |  Val. Acc: 58.41%\n"
     ]
    },
    {
     "name": "stderr",
     "output_type": "stream",
     "text": []
    },
    {
     "name": "stdout",
     "output_type": "stream",
     "text": [
      "Epoch: 25 | Epoch Time: 0m 20s\n",
      "\tTrain Loss: 0.518 | Train Acc: 81.50%\n",
      "\t Val. Loss: 1.658 |  Val. Acc: 57.91%\n"
     ]
    },
    {
     "name": "stderr",
     "output_type": "stream",
     "text": []
    },
    {
     "name": "stdout",
     "output_type": "stream",
     "text": [
      "Epoch: 26 | Epoch Time: 0m 24s\n",
      "\tTrain Loss: 0.506 | Train Acc: 81.71%\n",
      "\t Val. Loss: 1.649 |  Val. Acc: 59.10%\n"
     ]
    },
    {
     "name": "stderr",
     "output_type": "stream",
     "text": []
    },
    {
     "name": "stdout",
     "output_type": "stream",
     "text": [
      "Epoch: 27 | Epoch Time: 0m 26s\n",
      "\tTrain Loss: 0.502 | Train Acc: 82.05%\n",
      "\t Val. Loss: 1.797 |  Val. Acc: 58.23%\n"
     ]
    },
    {
     "name": "stderr",
     "output_type": "stream",
     "text": []
    },
    {
     "name": "stdout",
     "output_type": "stream",
     "text": [
      "Epoch: 28 | Epoch Time: 0m 25s\n",
      "\tTrain Loss: 0.496 | Train Acc: 82.29%\n",
      "\t Val. Loss: 1.626 |  Val. Acc: 58.88%\n"
     ]
    },
    {
     "name": "stderr",
     "output_type": "stream",
     "text": []
    },
    {
     "name": "stdout",
     "output_type": "stream",
     "text": [
      "Epoch: 29 | Epoch Time: 0m 26s\n",
      "\tTrain Loss: 0.471 | Train Acc: 83.11%\n",
      "\t Val. Loss: 1.715 |  Val. Acc: 58.31%\n"
     ]
    },
    {
     "name": "stderr",
     "output_type": "stream",
     "text": []
    },
    {
     "name": "stdout",
     "output_type": "stream",
     "text": [
      "Epoch: 30 | Epoch Time: 0m 25s\n",
      "\tTrain Loss: 0.469 | Train Acc: 83.37%\n",
      "\t Val. Loss: 1.881 |  Val. Acc: 56.98%\n"
     ]
    },
    {
     "name": "stderr",
     "output_type": "stream",
     "text": []
    },
    {
     "name": "stdout",
     "output_type": "stream",
     "text": [
      "Epoch: 31 | Epoch Time: 0m 24s\n",
      "\tTrain Loss: 0.457 | Train Acc: 83.58%\n",
      "\t Val. Loss: 1.866 |  Val. Acc: 58.45%\n"
     ]
    },
    {
     "name": "stderr",
     "output_type": "stream",
     "text": []
    },
    {
     "name": "stdout",
     "output_type": "stream",
     "text": [
      "Epoch: 32 | Epoch Time: 0m 24s\n",
      "\tTrain Loss: 0.446 | Train Acc: 84.09%\n",
      "\t Val. Loss: 1.879 |  Val. Acc: 57.79%\n"
     ]
    }
   ],
   "source": [
    "EPOCHS = 32\n",
    "\n",
    "train_losses = []\n",
    "valid_losses = []\n",
    "\n",
    "valid_accs = []\n",
    "train_accs = []\n",
    "\n",
    "best_valid_loss = float('inf')\n",
    "\n",
    "model = model.to(device)\n",
    "criterion = criterion.to(device)\n",
    "\n",
    "for epoch in trange(EPOCHS):\n",
    "\n",
    "  start_time = time.monotonic()\n",
    "\n",
    "  train_loss, train_acc = train_model(model, train_iterator, optimizer, criterion, device)\n",
    "  valid_loss, valid_acc = evaluate(model, valid_iterator, criterion, device)\n",
    "\n",
    "  train_losses.append(train_loss)\n",
    "  valid_losses.append(valid_loss)\n",
    "\n",
    "  train_accs.append(train_acc)\n",
    "  valid_accs.append(valid_acc)\n",
    "\n",
    "  if valid_loss < best_valid_loss:\n",
    "    best_valid_loss = valid_loss\n",
    "    torch.save(model.state_dict(), '../results/LeNet-08.pt')\n",
    "\n",
    "  end_time = time.monotonic()\n",
    "\n",
    "  epoch_mins, epoch_secs = epoch_time(start_time, end_time)\n",
    "\n",
    "  print(f'Epoch: {epoch+1:02} | Epoch Time: {epoch_mins}m {epoch_secs}s')\n",
    "  print(f'\\tTrain Loss: {train_loss:.3f} | Train Acc: {train_acc*100:.2f}%')\n",
    "  print(f'\\t Val. Loss: {valid_loss:.3f} |  Val. Acc: {valid_acc*100:.2f}%')\n",
    "\n",
    "train_stats = df_results(EPOCHS, train_losses, valid_losses, train_accs, valid_accs, \"LeNet-08-train-stats\")\n"
   ]
  },
  {
   "cell_type": "code",
   "execution_count": 52,
   "metadata": {},
   "outputs": [
    {
     "name": "stderr",
     "output_type": "stream",
     "text": [
      "                                                             "
     ]
    },
    {
     "name": "stdout",
     "output_type": "stream",
     "text": [
      "Test Loss: 1.111 | Test Acc: 62.54%\n"
     ]
    },
    {
     "name": "stderr",
     "output_type": "stream",
     "text": [
      "\r"
     ]
    }
   ],
   "source": [
    "model.load_state_dict(torch.load('../results/LeNet-08.pt'))\n",
    "\n",
    "test_loss, test_acc = evaluate(model, test_iterator, criterion, device)\n",
    "\n",
    "print(f'Test Loss: {test_loss:.3f} | Test Acc: {test_acc*100:.2f}%')"
   ]
  },
  {
   "attachments": {},
   "cell_type": "markdown",
   "metadata": {},
   "source": [
    "### Model_09\n",
    "\n",
    " - Batch Size : 64\n",
    " - Loss function: Cross-Entropy Loss\n",
    " - Optimizer: Stochastic Gradient Descent (SGD)\n",
    " - Activation function: ReLu\n",
    " - Epoch : 32\n",
    " - Learning Rate : 0.05"
   ]
  },
  {
   "cell_type": "code",
   "execution_count": 53,
   "metadata": {},
   "outputs": [
    {
     "name": "stdout",
     "output_type": "stream",
     "text": [
      "The model has 62,006 trainable parameters\n"
     ]
    },
    {
     "data": {
      "text/plain": [
       "LeNet(\n",
       "  (conv1): Conv2d(3, 6, kernel_size=(5, 5), stride=(1, 1))\n",
       "  (pool1): MaxPool2d(kernel_size=2, stride=2, padding=0, dilation=1, ceil_mode=False)\n",
       "  (conv2): Conv2d(6, 16, kernel_size=(5, 5), stride=(1, 1))\n",
       "  (pool2): MaxPool2d(kernel_size=2, stride=2, padding=0, dilation=1, ceil_mode=False)\n",
       "  (fc1): Linear(in_features=400, out_features=120, bias=True)\n",
       "  (fc2): Linear(in_features=120, out_features=84, bias=True)\n",
       "  (fc3): Linear(in_features=84, out_features=10, bias=True)\n",
       ")"
      ]
     },
     "execution_count": 53,
     "metadata": {},
     "output_type": "execute_result"
    }
   ],
   "source": [
    "model = LeNet()\n",
    "print(f'The model has {count_parameters(model):,} trainable parameters')\n",
    "model"
   ]
  },
  {
   "cell_type": "code",
   "execution_count": 54,
   "metadata": {},
   "outputs": [],
   "source": [
    "BATCH_SIZE = 64\n",
    "train_iterator, valid_iterator, test_iterator = create_data_loaders(train_data,\n",
    "                                                                    valid_data,\n",
    "                                                                    test_data,\n",
    "                                                                    BATCH_SIZE)\n",
    "criterion = torch.nn.CrossEntropyLoss()\n",
    "optimizer = torch.optim.SGD(model.parameters(), lr = 0.05, momentum = 0.9)"
   ]
  },
  {
   "cell_type": "code",
   "execution_count": 55,
   "metadata": {},
   "outputs": [
    {
     "name": "stdout",
     "output_type": "stream",
     "text": [
      "Current device is : cuda\n"
     ]
    }
   ],
   "source": [
    "device = torch.device('cuda' if torch.cuda.is_available() else 'cpu')\n",
    "print(f\"Current device is : {device}\")"
   ]
  },
  {
   "cell_type": "code",
   "execution_count": 56,
   "metadata": {},
   "outputs": [
    {
     "data": {
      "application/vnd.jupyter.widget-view+json": {
       "model_id": "be6f425ff5ce498fb514fe68291adcdc",
       "version_major": 2,
       "version_minor": 0
      },
      "text/plain": [
       "  0%|          | 0/32 [00:00<?, ?it/s]"
      ]
     },
     "metadata": {},
     "output_type": "display_data"
    },
    {
     "name": "stderr",
     "output_type": "stream",
     "text": []
    },
    {
     "name": "stdout",
     "output_type": "stream",
     "text": [
      "Epoch: 01 | Epoch Time: 0m 23s\n",
      "\tTrain Loss: 1.717 | Train Acc: 36.80%\n",
      "\t Val. Loss: 1.485 |  Val. Acc: 44.50%\n"
     ]
    },
    {
     "name": "stderr",
     "output_type": "stream",
     "text": []
    },
    {
     "name": "stdout",
     "output_type": "stream",
     "text": [
      "Epoch: 02 | Epoch Time: 0m 25s\n",
      "\tTrain Loss: 1.437 | Train Acc: 48.33%\n",
      "\t Val. Loss: 1.499 |  Val. Acc: 46.30%\n"
     ]
    },
    {
     "name": "stderr",
     "output_type": "stream",
     "text": []
    },
    {
     "name": "stdout",
     "output_type": "stream",
     "text": [
      "Epoch: 03 | Epoch Time: 0m 23s\n",
      "\tTrain Loss: 1.360 | Train Acc: 52.07%\n",
      "\t Val. Loss: 1.436 |  Val. Acc: 50.49%\n"
     ]
    },
    {
     "name": "stderr",
     "output_type": "stream",
     "text": []
    },
    {
     "name": "stdout",
     "output_type": "stream",
     "text": [
      "Epoch: 04 | Epoch Time: 0m 24s\n",
      "\tTrain Loss: 1.331 | Train Acc: 53.69%\n",
      "\t Val. Loss: 1.386 |  Val. Acc: 51.13%\n"
     ]
    },
    {
     "name": "stderr",
     "output_type": "stream",
     "text": []
    },
    {
     "name": "stdout",
     "output_type": "stream",
     "text": [
      "Epoch: 05 | Epoch Time: 0m 24s\n",
      "\tTrain Loss: 1.293 | Train Acc: 55.33%\n",
      "\t Val. Loss: 1.354 |  Val. Acc: 53.76%\n"
     ]
    },
    {
     "name": "stderr",
     "output_type": "stream",
     "text": []
    },
    {
     "name": "stdout",
     "output_type": "stream",
     "text": [
      "Epoch: 06 | Epoch Time: 0m 23s\n",
      "\tTrain Loss: 1.289 | Train Acc: 55.48%\n",
      "\t Val. Loss: 1.392 |  Val. Acc: 52.55%\n"
     ]
    },
    {
     "name": "stderr",
     "output_type": "stream",
     "text": []
    },
    {
     "name": "stdout",
     "output_type": "stream",
     "text": [
      "Epoch: 07 | Epoch Time: 0m 25s\n",
      "\tTrain Loss: 1.284 | Train Acc: 55.59%\n",
      "\t Val. Loss: 1.398 |  Val. Acc: 52.75%\n"
     ]
    },
    {
     "name": "stderr",
     "output_type": "stream",
     "text": []
    },
    {
     "name": "stdout",
     "output_type": "stream",
     "text": [
      "Epoch: 08 | Epoch Time: 0m 23s\n",
      "\tTrain Loss: 1.284 | Train Acc: 56.31%\n",
      "\t Val. Loss: 1.491 |  Val. Acc: 50.32%\n"
     ]
    },
    {
     "name": "stderr",
     "output_type": "stream",
     "text": []
    },
    {
     "name": "stdout",
     "output_type": "stream",
     "text": [
      "Epoch: 09 | Epoch Time: 0m 25s\n",
      "\tTrain Loss: 1.281 | Train Acc: 56.46%\n",
      "\t Val. Loss: 1.430 |  Val. Acc: 51.58%\n"
     ]
    },
    {
     "name": "stderr",
     "output_type": "stream",
     "text": []
    },
    {
     "name": "stdout",
     "output_type": "stream",
     "text": [
      "Epoch: 10 | Epoch Time: 0m 23s\n",
      "\tTrain Loss: 1.265 | Train Acc: 57.31%\n",
      "\t Val. Loss: 1.488 |  Val. Acc: 52.22%\n"
     ]
    },
    {
     "name": "stderr",
     "output_type": "stream",
     "text": []
    },
    {
     "name": "stdout",
     "output_type": "stream",
     "text": [
      "Epoch: 11 | Epoch Time: 0m 23s\n",
      "\tTrain Loss: 1.272 | Train Acc: 57.46%\n",
      "\t Val. Loss: 1.478 |  Val. Acc: 52.00%\n"
     ]
    },
    {
     "name": "stderr",
     "output_type": "stream",
     "text": []
    },
    {
     "name": "stdout",
     "output_type": "stream",
     "text": [
      "Epoch: 12 | Epoch Time: 0m 25s\n",
      "\tTrain Loss: 1.283 | Train Acc: 56.81%\n",
      "\t Val. Loss: 1.517 |  Val. Acc: 49.45%\n"
     ]
    },
    {
     "name": "stderr",
     "output_type": "stream",
     "text": []
    },
    {
     "name": "stdout",
     "output_type": "stream",
     "text": [
      "Epoch: 13 | Epoch Time: 0m 23s\n",
      "\tTrain Loss: 1.318 | Train Acc: 56.07%\n",
      "\t Val. Loss: 1.504 |  Val. Acc: 50.47%\n"
     ]
    },
    {
     "name": "stderr",
     "output_type": "stream",
     "text": []
    },
    {
     "name": "stdout",
     "output_type": "stream",
     "text": [
      "Epoch: 14 | Epoch Time: 0m 24s\n",
      "\tTrain Loss: 1.320 | Train Acc: 56.29%\n",
      "\t Val. Loss: 1.542 |  Val. Acc: 51.09%\n"
     ]
    },
    {
     "name": "stderr",
     "output_type": "stream",
     "text": []
    },
    {
     "name": "stdout",
     "output_type": "stream",
     "text": [
      "Epoch: 15 | Epoch Time: 0m 24s\n",
      "\tTrain Loss: 1.324 | Train Acc: 56.09%\n",
      "\t Val. Loss: 1.488 |  Val. Acc: 52.59%\n"
     ]
    },
    {
     "name": "stderr",
     "output_type": "stream",
     "text": []
    },
    {
     "name": "stdout",
     "output_type": "stream",
     "text": [
      "Epoch: 16 | Epoch Time: 0m 23s\n",
      "\tTrain Loss: 1.319 | Train Acc: 56.47%\n",
      "\t Val. Loss: 1.524 |  Val. Acc: 51.86%\n"
     ]
    },
    {
     "name": "stderr",
     "output_type": "stream",
     "text": []
    },
    {
     "name": "stdout",
     "output_type": "stream",
     "text": [
      "Epoch: 17 | Epoch Time: 0m 25s\n",
      "\tTrain Loss: 1.348 | Train Acc: 55.82%\n",
      "\t Val. Loss: 1.592 |  Val. Acc: 50.83%\n"
     ]
    },
    {
     "name": "stderr",
     "output_type": "stream",
     "text": []
    },
    {
     "name": "stdout",
     "output_type": "stream",
     "text": [
      "Epoch: 18 | Epoch Time: 0m 24s\n",
      "\tTrain Loss: 1.285 | Train Acc: 57.93%\n",
      "\t Val. Loss: 1.759 |  Val. Acc: 46.66%\n"
     ]
    },
    {
     "name": "stderr",
     "output_type": "stream",
     "text": []
    },
    {
     "name": "stdout",
     "output_type": "stream",
     "text": [
      "Epoch: 19 | Epoch Time: 0m 25s\n",
      "\tTrain Loss: 1.327 | Train Acc: 56.82%\n",
      "\t Val. Loss: 1.594 |  Val. Acc: 48.89%\n"
     ]
    },
    {
     "name": "stderr",
     "output_type": "stream",
     "text": []
    },
    {
     "name": "stdout",
     "output_type": "stream",
     "text": [
      "Epoch: 20 | Epoch Time: 0m 23s\n",
      "\tTrain Loss: 1.346 | Train Acc: 56.36%\n",
      "\t Val. Loss: 1.600 |  Val. Acc: 49.01%\n"
     ]
    },
    {
     "name": "stderr",
     "output_type": "stream",
     "text": []
    },
    {
     "name": "stdout",
     "output_type": "stream",
     "text": [
      "Epoch: 21 | Epoch Time: 0m 24s\n",
      "\tTrain Loss: 1.340 | Train Acc: 56.20%\n",
      "\t Val. Loss: 1.552 |  Val. Acc: 49.70%\n"
     ]
    },
    {
     "name": "stderr",
     "output_type": "stream",
     "text": []
    },
    {
     "name": "stdout",
     "output_type": "stream",
     "text": [
      "Epoch: 22 | Epoch Time: 0m 24s\n",
      "\tTrain Loss: 1.381 | Train Acc: 55.46%\n",
      "\t Val. Loss: 1.613 |  Val. Acc: 48.97%\n"
     ]
    },
    {
     "name": "stderr",
     "output_type": "stream",
     "text": []
    },
    {
     "name": "stdout",
     "output_type": "stream",
     "text": [
      "Epoch: 23 | Epoch Time: 0m 23s\n",
      "\tTrain Loss: 1.366 | Train Acc: 56.22%\n",
      "\t Val. Loss: 1.666 |  Val. Acc: 48.64%\n"
     ]
    },
    {
     "name": "stderr",
     "output_type": "stream",
     "text": []
    },
    {
     "name": "stdout",
     "output_type": "stream",
     "text": [
      "Epoch: 24 | Epoch Time: 0m 25s\n",
      "\tTrain Loss: 1.395 | Train Acc: 55.33%\n",
      "\t Val. Loss: 1.573 |  Val. Acc: 49.49%\n"
     ]
    },
    {
     "name": "stderr",
     "output_type": "stream",
     "text": []
    },
    {
     "name": "stdout",
     "output_type": "stream",
     "text": [
      "Epoch: 25 | Epoch Time: 0m 23s\n",
      "\tTrain Loss: 1.389 | Train Acc: 55.33%\n",
      "\t Val. Loss: 1.679 |  Val. Acc: 45.47%\n"
     ]
    },
    {
     "name": "stderr",
     "output_type": "stream",
     "text": []
    },
    {
     "name": "stdout",
     "output_type": "stream",
     "text": [
      "Epoch: 26 | Epoch Time: 0m 25s\n",
      "\tTrain Loss: 1.445 | Train Acc: 54.01%\n",
      "\t Val. Loss: 1.668 |  Val. Acc: 50.81%\n"
     ]
    },
    {
     "name": "stderr",
     "output_type": "stream",
     "text": []
    },
    {
     "name": "stdout",
     "output_type": "stream",
     "text": [
      "Epoch: 27 | Epoch Time: 0m 23s\n",
      "\tTrain Loss: 1.412 | Train Acc: 54.73%\n",
      "\t Val. Loss: 1.674 |  Val. Acc: 48.44%\n"
     ]
    },
    {
     "name": "stderr",
     "output_type": "stream",
     "text": []
    },
    {
     "name": "stdout",
     "output_type": "stream",
     "text": [
      "Epoch: 28 | Epoch Time: 0m 23s\n",
      "\tTrain Loss: 1.444 | Train Acc: 53.80%\n",
      "\t Val. Loss: 1.628 |  Val. Acc: 47.86%\n"
     ]
    },
    {
     "name": "stderr",
     "output_type": "stream",
     "text": []
    },
    {
     "name": "stdout",
     "output_type": "stream",
     "text": [
      "Epoch: 29 | Epoch Time: 0m 25s\n",
      "\tTrain Loss: 1.459 | Train Acc: 53.21%\n",
      "\t Val. Loss: 1.765 |  Val. Acc: 46.02%\n"
     ]
    },
    {
     "name": "stderr",
     "output_type": "stream",
     "text": []
    },
    {
     "name": "stdout",
     "output_type": "stream",
     "text": [
      "Epoch: 30 | Epoch Time: 0m 23s\n",
      "\tTrain Loss: 1.492 | Train Acc: 51.86%\n",
      "\t Val. Loss: 1.681 |  Val. Acc: 48.56%\n"
     ]
    },
    {
     "name": "stderr",
     "output_type": "stream",
     "text": []
    },
    {
     "name": "stdout",
     "output_type": "stream",
     "text": [
      "Epoch: 31 | Epoch Time: 0m 25s\n",
      "\tTrain Loss: 1.522 | Train Acc: 51.36%\n",
      "\t Val. Loss: 1.758 |  Val. Acc: 42.48%\n"
     ]
    },
    {
     "name": "stderr",
     "output_type": "stream",
     "text": []
    },
    {
     "name": "stdout",
     "output_type": "stream",
     "text": [
      "Epoch: 32 | Epoch Time: 0m 24s\n",
      "\tTrain Loss: 1.594 | Train Acc: 47.94%\n",
      "\t Val. Loss: 2.022 |  Val. Acc: 38.05%\n"
     ]
    }
   ],
   "source": [
    "EPOCHS = 32\n",
    "\n",
    "train_losses = []\n",
    "valid_losses = []\n",
    "\n",
    "valid_accs = []\n",
    "train_accs = []\n",
    "\n",
    "best_valid_loss = float('inf')\n",
    "\n",
    "model = model.to(device)\n",
    "criterion = criterion.to(device)\n",
    "\n",
    "for epoch in trange(EPOCHS):\n",
    "\n",
    "  start_time = time.monotonic()\n",
    "\n",
    "  train_loss, train_acc = train_model(model, train_iterator, optimizer, criterion, device)\n",
    "  valid_loss, valid_acc = evaluate(model, valid_iterator, criterion, device)\n",
    "\n",
    "  train_losses.append(train_loss)\n",
    "  valid_losses.append(valid_loss)\n",
    "\n",
    "  train_accs.append(train_acc)\n",
    "  valid_accs.append(valid_acc)\n",
    "\n",
    "  if valid_loss < best_valid_loss:\n",
    "    best_valid_loss = valid_loss\n",
    "    torch.save(model.state_dict(), '../results/LeNet-09.pt')\n",
    "\n",
    "  end_time = time.monotonic()\n",
    "\n",
    "  epoch_mins, epoch_secs = epoch_time(start_time, end_time)\n",
    "\n",
    "  print(f'Epoch: {epoch+1:02} | Epoch Time: {epoch_mins}m {epoch_secs}s')\n",
    "  print(f'\\tTrain Loss: {train_loss:.3f} | Train Acc: {train_acc*100:.2f}%')\n",
    "  print(f'\\t Val. Loss: {valid_loss:.3f} |  Val. Acc: {valid_acc*100:.2f}%')\n",
    "\n",
    "train_stats = df_results(EPOCHS, train_losses, valid_losses, train_accs, valid_accs, \"LeNet-09-train-stats\")\n"
   ]
  },
  {
   "cell_type": "code",
   "execution_count": 57,
   "metadata": {},
   "outputs": [
    {
     "name": "stderr",
     "output_type": "stream",
     "text": [
      "                                                             "
     ]
    },
    {
     "name": "stdout",
     "output_type": "stream",
     "text": [
      "Test Loss: 1.360 | Test Acc: 53.98%\n"
     ]
    },
    {
     "name": "stderr",
     "output_type": "stream",
     "text": [
      "\r"
     ]
    }
   ],
   "source": [
    "model.load_state_dict(torch.load('../results/LeNet-09.pt'))\n",
    "\n",
    "test_loss, test_acc = evaluate(model, test_iterator, criterion, device)\n",
    "\n",
    "print(f'Test Loss: {test_loss:.3f} | Test Acc: {test_acc*100:.2f}%')"
   ]
  },
  {
   "cell_type": "code",
   "execution_count": null,
   "metadata": {},
   "outputs": [],
   "source": []
  }
 ],
 "metadata": {
  "kernelspec": {
   "display_name": "Python 3",
   "language": "python",
   "name": "python3"
  },
  "language_info": {
   "codemirror_mode": {
    "name": "ipython",
    "version": 3
   },
   "file_extension": ".py",
   "mimetype": "text/x-python",
   "name": "python",
   "nbconvert_exporter": "python",
   "pygments_lexer": "ipython3",
   "version": "3.9.10"
  },
  "orig_nbformat": 4
 },
 "nbformat": 4,
 "nbformat_minor": 2
}
